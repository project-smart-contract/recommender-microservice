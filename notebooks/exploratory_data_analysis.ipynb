{
 "cells": [
  {
   "cell_type": "code",
   "execution_count": 1,
   "id": "initial_id",
   "metadata": {
    "collapsed": true,
    "ExecuteTime": {
     "end_time": "2024-01-15T20:49:47.950963Z",
     "start_time": "2024-01-15T20:49:47.198391Z"
    }
   },
   "outputs": [
    {
     "data": {
      "text/plain": "                        _id                       fullname  age parent  \\\n0  65a53cb2e8f90a3d99957e62                   Hicham Hamza   56   True   \n1  65a53d34e8f90a3d99957e63                      Aya Hamza   20  False   \n2  65a53da5e8f90a3d99957e64  Mohammed El Bakkali El Ammari   25    NaN   \n3  65a53debe8f90a3d99957e65                  Mokhtar Hamza   60    NaN   \n4  65a53e34e8f90a3d99957e66                Said Benjelloun   40    NaN   \n\n   occupation  vehicle_year  vehicle_age car_make car_model car_type  \\\n0     teacher        2020.0          3.0    dacia     logan      NaN   \n1     student        2020.0          1.0  audi rs        Q5      NaN   \n2         CEO           NaN          NaN      NaN       NaN   trucks   \n3  Taxi owner           NaN          NaN      NaN       NaN      car   \n4         CEO           NaN          NaN      NaN       NaN      car   \n\n   number_insured_cars         business_size        business_field  \\\n0                  NaN                   NaN                   NaN   \n1                  NaN                   NaN                   NaN   \n2                  5.0                   TPE  merchandise delivery   \n3                  1.0      Individual Owner         Taxi Services   \n4                 20.0  Large sized business         IT enterprise   \n\n                  timestamp  \n0  2024-01-15T14:09:48.080Z  \n1  2024-01-15T14:12:04.779Z  \n2  2024-01-15T14:13:57.349Z  \n3  2024-01-15T14:15:07.741Z  \n4  2024-01-15T14:16:20.716Z  ",
      "text/html": "<div>\n<style scoped>\n    .dataframe tbody tr th:only-of-type {\n        vertical-align: middle;\n    }\n\n    .dataframe tbody tr th {\n        vertical-align: top;\n    }\n\n    .dataframe thead th {\n        text-align: right;\n    }\n</style>\n<table border=\"1\" class=\"dataframe\">\n  <thead>\n    <tr style=\"text-align: right;\">\n      <th></th>\n      <th>_id</th>\n      <th>fullname</th>\n      <th>age</th>\n      <th>parent</th>\n      <th>occupation</th>\n      <th>vehicle_year</th>\n      <th>vehicle_age</th>\n      <th>car_make</th>\n      <th>car_model</th>\n      <th>car_type</th>\n      <th>number_insured_cars</th>\n      <th>business_size</th>\n      <th>business_field</th>\n      <th>timestamp</th>\n    </tr>\n  </thead>\n  <tbody>\n    <tr>\n      <th>0</th>\n      <td>65a53cb2e8f90a3d99957e62</td>\n      <td>Hicham Hamza</td>\n      <td>56</td>\n      <td>True</td>\n      <td>teacher</td>\n      <td>2020.0</td>\n      <td>3.0</td>\n      <td>dacia</td>\n      <td>logan</td>\n      <td>NaN</td>\n      <td>NaN</td>\n      <td>NaN</td>\n      <td>NaN</td>\n      <td>2024-01-15T14:09:48.080Z</td>\n    </tr>\n    <tr>\n      <th>1</th>\n      <td>65a53d34e8f90a3d99957e63</td>\n      <td>Aya Hamza</td>\n      <td>20</td>\n      <td>False</td>\n      <td>student</td>\n      <td>2020.0</td>\n      <td>1.0</td>\n      <td>audi rs</td>\n      <td>Q5</td>\n      <td>NaN</td>\n      <td>NaN</td>\n      <td>NaN</td>\n      <td>NaN</td>\n      <td>2024-01-15T14:12:04.779Z</td>\n    </tr>\n    <tr>\n      <th>2</th>\n      <td>65a53da5e8f90a3d99957e64</td>\n      <td>Mohammed El Bakkali El Ammari</td>\n      <td>25</td>\n      <td>NaN</td>\n      <td>CEO</td>\n      <td>NaN</td>\n      <td>NaN</td>\n      <td>NaN</td>\n      <td>NaN</td>\n      <td>trucks</td>\n      <td>5.0</td>\n      <td>TPE</td>\n      <td>merchandise delivery</td>\n      <td>2024-01-15T14:13:57.349Z</td>\n    </tr>\n    <tr>\n      <th>3</th>\n      <td>65a53debe8f90a3d99957e65</td>\n      <td>Mokhtar Hamza</td>\n      <td>60</td>\n      <td>NaN</td>\n      <td>Taxi owner</td>\n      <td>NaN</td>\n      <td>NaN</td>\n      <td>NaN</td>\n      <td>NaN</td>\n      <td>car</td>\n      <td>1.0</td>\n      <td>Individual Owner</td>\n      <td>Taxi Services</td>\n      <td>2024-01-15T14:15:07.741Z</td>\n    </tr>\n    <tr>\n      <th>4</th>\n      <td>65a53e34e8f90a3d99957e66</td>\n      <td>Said Benjelloun</td>\n      <td>40</td>\n      <td>NaN</td>\n      <td>CEO</td>\n      <td>NaN</td>\n      <td>NaN</td>\n      <td>NaN</td>\n      <td>NaN</td>\n      <td>car</td>\n      <td>20.0</td>\n      <td>Large sized business</td>\n      <td>IT enterprise</td>\n      <td>2024-01-15T14:16:20.716Z</td>\n    </tr>\n  </tbody>\n</table>\n</div>"
     },
     "execution_count": 1,
     "metadata": {},
     "output_type": "execute_result"
    }
   ],
   "source": [
    "from src.ml.data.data_loader import load_raw_data\n",
    "\n",
    "raw_data_path = '/Users/aya/Desktop/ML/insurance-recommender/data/raw/user_data.csv'\n",
    "\n",
    "raw_data = load_raw_data(raw_data_path)\n",
    "\n",
    "raw_data.head()"
   ]
  },
  {
   "cell_type": "code",
   "outputs": [],
   "source": [],
   "metadata": {
    "collapsed": false
   },
   "id": "3548da4c65b4bc67"
  }
 ],
 "metadata": {
  "kernelspec": {
   "display_name": "Python 3",
   "language": "python",
   "name": "python3"
  },
  "language_info": {
   "codemirror_mode": {
    "name": "ipython",
    "version": 2
   },
   "file_extension": ".py",
   "mimetype": "text/x-python",
   "name": "python",
   "nbconvert_exporter": "python",
   "pygments_lexer": "ipython2",
   "version": "2.7.6"
  }
 },
 "nbformat": 4,
 "nbformat_minor": 5
}
