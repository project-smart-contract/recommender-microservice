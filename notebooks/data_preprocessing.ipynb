{
 "cells": [
  {
   "cell_type": "code",
   "execution_count": 171,
   "id": "initial_id",
   "metadata": {
    "collapsed": true,
    "ExecuteTime": {
     "end_time": "2024-01-20T13:29:50.060841Z",
     "start_time": "2024-01-20T13:29:50.057984Z"
    }
   },
   "outputs": [],
   "source": [
    "import numpy as np\n",
    "from src.ml.data.data_loader import load_raw_data\n",
    "import pandas as pd"
   ]
  },
  {
   "cell_type": "code",
   "outputs": [
    {
     "data": {
      "text/plain": "                         _id          fullname  age parent occupation  www  \\\n82  65aadc741d099129aa714f80  mohammed cluster  NaN    NaN        CEO  NaN   \n83  65aadc851d099129aa714f81  mohammed cluster  NaN    NaN        CEO  NaN   \n84  65aadc911d099129aa714f82  mohammed cluster  NaN    NaN        CEO  NaN   \n85  65aadca61d099129aa714f83  mohammed cluster  NaN    NaN        CEO  NaN   \n86  65aadcbb1d099129aa714f84  mohammed cluster  NaN    NaN        CEO  NaN   \n\n   vehicle_type vehicle_make vehicle_model  vehicle_year  number_seats  \\\n82          car          NaN           NaN           NaN             5   \n83          car          NaN           NaN           NaN             5   \n84          car          NaN           NaN           NaN             5   \n85          car          NaN           NaN           NaN             5   \n86          car          NaN           NaN           NaN             5   \n\n      business_field  number_insured_vehicles                 timestamp  \n82  services diverts                     20.0  2024-01-19T20:32:52.199Z  \n83    centre d'appel                     20.0  2024-01-19T20:33:09.852Z  \n84    centre d'appel                     21.0  2024-01-19T20:33:21.759Z  \n85              Port                     18.0  2024-01-19T20:33:42.110Z  \n86  Digital services                     18.0  2024-01-19T20:34:03.583Z  ",
      "text/html": "<div>\n<style scoped>\n    .dataframe tbody tr th:only-of-type {\n        vertical-align: middle;\n    }\n\n    .dataframe tbody tr th {\n        vertical-align: top;\n    }\n\n    .dataframe thead th {\n        text-align: right;\n    }\n</style>\n<table border=\"1\" class=\"dataframe\">\n  <thead>\n    <tr style=\"text-align: right;\">\n      <th></th>\n      <th>_id</th>\n      <th>fullname</th>\n      <th>age</th>\n      <th>parent</th>\n      <th>occupation</th>\n      <th>www</th>\n      <th>vehicle_type</th>\n      <th>vehicle_make</th>\n      <th>vehicle_model</th>\n      <th>vehicle_year</th>\n      <th>number_seats</th>\n      <th>business_field</th>\n      <th>number_insured_vehicles</th>\n      <th>timestamp</th>\n    </tr>\n  </thead>\n  <tbody>\n    <tr>\n      <th>82</th>\n      <td>65aadc741d099129aa714f80</td>\n      <td>mohammed cluster</td>\n      <td>NaN</td>\n      <td>NaN</td>\n      <td>CEO</td>\n      <td>NaN</td>\n      <td>car</td>\n      <td>NaN</td>\n      <td>NaN</td>\n      <td>NaN</td>\n      <td>5</td>\n      <td>services diverts</td>\n      <td>20.0</td>\n      <td>2024-01-19T20:32:52.199Z</td>\n    </tr>\n    <tr>\n      <th>83</th>\n      <td>65aadc851d099129aa714f81</td>\n      <td>mohammed cluster</td>\n      <td>NaN</td>\n      <td>NaN</td>\n      <td>CEO</td>\n      <td>NaN</td>\n      <td>car</td>\n      <td>NaN</td>\n      <td>NaN</td>\n      <td>NaN</td>\n      <td>5</td>\n      <td>centre d'appel</td>\n      <td>20.0</td>\n      <td>2024-01-19T20:33:09.852Z</td>\n    </tr>\n    <tr>\n      <th>84</th>\n      <td>65aadc911d099129aa714f82</td>\n      <td>mohammed cluster</td>\n      <td>NaN</td>\n      <td>NaN</td>\n      <td>CEO</td>\n      <td>NaN</td>\n      <td>car</td>\n      <td>NaN</td>\n      <td>NaN</td>\n      <td>NaN</td>\n      <td>5</td>\n      <td>centre d'appel</td>\n      <td>21.0</td>\n      <td>2024-01-19T20:33:21.759Z</td>\n    </tr>\n    <tr>\n      <th>85</th>\n      <td>65aadca61d099129aa714f83</td>\n      <td>mohammed cluster</td>\n      <td>NaN</td>\n      <td>NaN</td>\n      <td>CEO</td>\n      <td>NaN</td>\n      <td>car</td>\n      <td>NaN</td>\n      <td>NaN</td>\n      <td>NaN</td>\n      <td>5</td>\n      <td>Port</td>\n      <td>18.0</td>\n      <td>2024-01-19T20:33:42.110Z</td>\n    </tr>\n    <tr>\n      <th>86</th>\n      <td>65aadcbb1d099129aa714f84</td>\n      <td>mohammed cluster</td>\n      <td>NaN</td>\n      <td>NaN</td>\n      <td>CEO</td>\n      <td>NaN</td>\n      <td>car</td>\n      <td>NaN</td>\n      <td>NaN</td>\n      <td>NaN</td>\n      <td>5</td>\n      <td>Digital services</td>\n      <td>18.0</td>\n      <td>2024-01-19T20:34:03.583Z</td>\n    </tr>\n  </tbody>\n</table>\n</div>"
     },
     "execution_count": 172,
     "metadata": {},
     "output_type": "execute_result"
    }
   ],
   "source": [
    "raw_data_path = '/Users/aya/Desktop/ML/insurance-recommender/data/raw/user_data.csv'\n",
    "\n",
    "raw_data = load_raw_data(raw_data_path)\n",
    "processed_data = raw_data\n",
    "processed_data.tail()"
   ],
   "metadata": {
    "collapsed": false,
    "ExecuteTime": {
     "end_time": "2024-01-20T13:29:50.096906Z",
     "start_time": "2024-01-20T13:29:50.065758Z"
    }
   },
   "id": "2040a2533ae480e1",
   "execution_count": 172
  },
  {
   "cell_type": "code",
   "outputs": [
    {
     "data": {
      "text/plain": "                         _id  age   parent occupation      www vehicle_type  \\\n82  65aadc741d099129aa714f80  0.0  unknown        CEO  unknown          car   \n83  65aadc851d099129aa714f81  0.0  unknown        CEO  unknown          car   \n84  65aadc911d099129aa714f82  0.0  unknown        CEO  unknown          car   \n85  65aadca61d099129aa714f83  0.0  unknown        CEO  unknown          car   \n86  65aadcbb1d099129aa714f84  0.0  unknown        CEO  unknown          car   \n\n   vehicle_make vehicle_model  vehicle_year  number_seats    business_field  \\\n82      unknown       unknown           0.0             5  services diverts   \n83      unknown       unknown           0.0             5    centre d'appel   \n84      unknown       unknown           0.0             5    centre d'appel   \n85      unknown       unknown           0.0             5              Port   \n86      unknown       unknown           0.0             5  Digital services   \n\n    number_insured_vehicles  \n82                     20.0  \n83                     20.0  \n84                     21.0  \n85                     18.0  \n86                     18.0  ",
      "text/html": "<div>\n<style scoped>\n    .dataframe tbody tr th:only-of-type {\n        vertical-align: middle;\n    }\n\n    .dataframe tbody tr th {\n        vertical-align: top;\n    }\n\n    .dataframe thead th {\n        text-align: right;\n    }\n</style>\n<table border=\"1\" class=\"dataframe\">\n  <thead>\n    <tr style=\"text-align: right;\">\n      <th></th>\n      <th>_id</th>\n      <th>age</th>\n      <th>parent</th>\n      <th>occupation</th>\n      <th>www</th>\n      <th>vehicle_type</th>\n      <th>vehicle_make</th>\n      <th>vehicle_model</th>\n      <th>vehicle_year</th>\n      <th>number_seats</th>\n      <th>business_field</th>\n      <th>number_insured_vehicles</th>\n    </tr>\n  </thead>\n  <tbody>\n    <tr>\n      <th>82</th>\n      <td>65aadc741d099129aa714f80</td>\n      <td>0.0</td>\n      <td>unknown</td>\n      <td>CEO</td>\n      <td>unknown</td>\n      <td>car</td>\n      <td>unknown</td>\n      <td>unknown</td>\n      <td>0.0</td>\n      <td>5</td>\n      <td>services diverts</td>\n      <td>20.0</td>\n    </tr>\n    <tr>\n      <th>83</th>\n      <td>65aadc851d099129aa714f81</td>\n      <td>0.0</td>\n      <td>unknown</td>\n      <td>CEO</td>\n      <td>unknown</td>\n      <td>car</td>\n      <td>unknown</td>\n      <td>unknown</td>\n      <td>0.0</td>\n      <td>5</td>\n      <td>centre d'appel</td>\n      <td>20.0</td>\n    </tr>\n    <tr>\n      <th>84</th>\n      <td>65aadc911d099129aa714f82</td>\n      <td>0.0</td>\n      <td>unknown</td>\n      <td>CEO</td>\n      <td>unknown</td>\n      <td>car</td>\n      <td>unknown</td>\n      <td>unknown</td>\n      <td>0.0</td>\n      <td>5</td>\n      <td>centre d'appel</td>\n      <td>21.0</td>\n    </tr>\n    <tr>\n      <th>85</th>\n      <td>65aadca61d099129aa714f83</td>\n      <td>0.0</td>\n      <td>unknown</td>\n      <td>CEO</td>\n      <td>unknown</td>\n      <td>car</td>\n      <td>unknown</td>\n      <td>unknown</td>\n      <td>0.0</td>\n      <td>5</td>\n      <td>Port</td>\n      <td>18.0</td>\n    </tr>\n    <tr>\n      <th>86</th>\n      <td>65aadcbb1d099129aa714f84</td>\n      <td>0.0</td>\n      <td>unknown</td>\n      <td>CEO</td>\n      <td>unknown</td>\n      <td>car</td>\n      <td>unknown</td>\n      <td>unknown</td>\n      <td>0.0</td>\n      <td>5</td>\n      <td>Digital services</td>\n      <td>18.0</td>\n    </tr>\n  </tbody>\n</table>\n</div>"
     },
     "execution_count": 173,
     "metadata": {},
     "output_type": "execute_result"
    }
   ],
   "source": [
    "processed_data[\"vehicle_year\"].fillna(value=0, inplace=True)\n",
    "processed_data[\"number_insured_vehicles\"].fillna(value=0, inplace=True)\n",
    "processed_data[\"age\"].fillna(value=0, inplace=True)\n",
    "processed_data.fillna(value='unknown', inplace=True)\n",
    "\n",
    "# dropping these cols because we do not need it at this stage of code\n",
    "processed_data = processed_data.drop(['timestamp','fullname'], axis=1)\n",
    "processed_data.tail()"
   ],
   "metadata": {
    "collapsed": false,
    "ExecuteTime": {
     "end_time": "2024-01-20T13:29:50.111991Z",
     "start_time": "2024-01-20T13:29:50.100971Z"
    }
   },
   "id": "8e786a957fdba081",
   "execution_count": 173
  },
  {
   "cell_type": "code",
   "outputs": [
    {
     "data": {
      "text/plain": "                         _id  age   parent occupation      www vehicle_type  \\\n82  65aadc741d099129aa714f80  0.0  unknown        CEO  unknown          car   \n83  65aadc851d099129aa714f81  0.0  unknown        CEO  unknown          car   \n84  65aadc911d099129aa714f82  0.0  unknown        CEO  unknown          car   \n85  65aadca61d099129aa714f83  0.0  unknown        CEO  unknown          car   \n86  65aadcbb1d099129aa714f84  0.0  unknown        CEO  unknown          car   \n\n    number_seats    business_field  number_insured_vehicles vehicle_range  \\\n82             5  services diverts                     20.0       unknown   \n83             5    centre d'appel                     20.0       unknown   \n84             5    centre d'appel                     21.0       unknown   \n85             5              Port                     18.0       unknown   \n86             5  Digital services                     18.0       unknown   \n\n   vehicle_category vehicle_state  \n82          unknown           NaN  \n83          unknown           NaN  \n84          unknown           NaN  \n85          unknown           NaN  \n86          unknown           NaN  ",
      "text/html": "<div>\n<style scoped>\n    .dataframe tbody tr th:only-of-type {\n        vertical-align: middle;\n    }\n\n    .dataframe tbody tr th {\n        vertical-align: top;\n    }\n\n    .dataframe thead th {\n        text-align: right;\n    }\n</style>\n<table border=\"1\" class=\"dataframe\">\n  <thead>\n    <tr style=\"text-align: right;\">\n      <th></th>\n      <th>_id</th>\n      <th>age</th>\n      <th>parent</th>\n      <th>occupation</th>\n      <th>www</th>\n      <th>vehicle_type</th>\n      <th>number_seats</th>\n      <th>business_field</th>\n      <th>number_insured_vehicles</th>\n      <th>vehicle_range</th>\n      <th>vehicle_category</th>\n      <th>vehicle_state</th>\n    </tr>\n  </thead>\n  <tbody>\n    <tr>\n      <th>82</th>\n      <td>65aadc741d099129aa714f80</td>\n      <td>0.0</td>\n      <td>unknown</td>\n      <td>CEO</td>\n      <td>unknown</td>\n      <td>car</td>\n      <td>5</td>\n      <td>services diverts</td>\n      <td>20.0</td>\n      <td>unknown</td>\n      <td>unknown</td>\n      <td>NaN</td>\n    </tr>\n    <tr>\n      <th>83</th>\n      <td>65aadc851d099129aa714f81</td>\n      <td>0.0</td>\n      <td>unknown</td>\n      <td>CEO</td>\n      <td>unknown</td>\n      <td>car</td>\n      <td>5</td>\n      <td>centre d'appel</td>\n      <td>20.0</td>\n      <td>unknown</td>\n      <td>unknown</td>\n      <td>NaN</td>\n    </tr>\n    <tr>\n      <th>84</th>\n      <td>65aadc911d099129aa714f82</td>\n      <td>0.0</td>\n      <td>unknown</td>\n      <td>CEO</td>\n      <td>unknown</td>\n      <td>car</td>\n      <td>5</td>\n      <td>centre d'appel</td>\n      <td>21.0</td>\n      <td>unknown</td>\n      <td>unknown</td>\n      <td>NaN</td>\n    </tr>\n    <tr>\n      <th>85</th>\n      <td>65aadca61d099129aa714f83</td>\n      <td>0.0</td>\n      <td>unknown</td>\n      <td>CEO</td>\n      <td>unknown</td>\n      <td>car</td>\n      <td>5</td>\n      <td>Port</td>\n      <td>18.0</td>\n      <td>unknown</td>\n      <td>unknown</td>\n      <td>NaN</td>\n    </tr>\n    <tr>\n      <th>86</th>\n      <td>65aadcbb1d099129aa714f84</td>\n      <td>0.0</td>\n      <td>unknown</td>\n      <td>CEO</td>\n      <td>unknown</td>\n      <td>car</td>\n      <td>5</td>\n      <td>Digital services</td>\n      <td>18.0</td>\n      <td>unknown</td>\n      <td>unknown</td>\n      <td>NaN</td>\n    </tr>\n  </tbody>\n</table>\n</div>"
     },
     "execution_count": 174,
     "metadata": {},
     "output_type": "execute_result"
    }
   ],
   "source": [
    "# range\n",
    "economic_cars = ['dacia', 'renault', 'fiat', 'peugeot', 'ford', 'honda', 'hyundai', 'kia', 'nissan', 'subaru', 'toyota', 'volkswagen','cappuccino']\n",
    "midrange_cars = ['audi', 'bmw', 'mazda', 'mercedes', 'volvo','Nissan']\n",
    "luxury_cars = ['aston martin', 'bentley', 'ferrari', 'lamborghini', 'porsche', 'rolls-royce','tesla']\n",
    "\n",
    "# category\n",
    "hybrid_cars =['Prius', 'Insight','Fusion Hybrid', 'Volt','RX Hybrid','Camry Hybrid','Ioniq Hybrid','Niro','i3','3','chr']\n",
    "electric_cars =['s', 'X', 'Y', 'Spark EV', 'i4', 'Kona Electric', 'Soul EV', 'e-tron']\n",
    "diesel_cars =['500', 'logan', 'rs q4', 'Spark EV', 'i4', 'Kona Electric', 'Soul EV', 'e-tron','50cc','lodge']\n",
    "\n",
    "# state\n",
    "vehicle_state=['vetuste','recent']\n",
    "\n",
    "processed_data.loc[processed_data['vehicle_make'].isin(economic_cars), 'vehicle_range'] = 'Economic'\n",
    "processed_data.loc[processed_data['vehicle_make'].isin(midrange_cars), 'vehicle_range'] = 'Midrange'\n",
    "processed_data.loc[processed_data['vehicle_make'].isin(luxury_cars), 'vehicle_range'] = 'Luxury'\n",
    "processed_data.loc[processed_data['vehicle_make'].isin(['unknown']), 'vehicle_range'] = 'unknown'\n",
    "\n",
    "processed_data.loc[processed_data['vehicle_model'].isin(hybrid_cars), 'vehicle_category'] = 'Hybrid'\n",
    "processed_data.loc[processed_data['vehicle_model'].isin(electric_cars), 'vehicle_category'] = 'Electric'\n",
    "processed_data.loc[processed_data['vehicle_model'].isin(diesel_cars), 'vehicle_category'] = 'Diesel'\n",
    "processed_data.loc[processed_data['vehicle_model'].isin(['unknown']), 'vehicle_category'] = 'unknown'\n",
    "\n",
    "processed_data['vehicle_state'] = pd.cut(\n",
    "    processed_data['vehicle_year'],\n",
    "    bins=[1886, 2019, float('inf')],\n",
    "    labels=['Vetuste', 'Recent']\n",
    ")\n",
    "processed_data = processed_data.drop(['vehicle_make','vehicle_model','vehicle_year'], axis=1)\n",
    "\n",
    "processed_data.tail()"
   ],
   "metadata": {
    "collapsed": false,
    "ExecuteTime": {
     "end_time": "2024-01-20T13:29:50.232362Z",
     "start_time": "2024-01-20T13:29:50.131441Z"
    }
   },
   "id": "24e752dfa31334a8",
   "execution_count": 174
  },
  {
   "cell_type": "code",
   "outputs": [
    {
     "data": {
      "text/plain": "                         _id   age  parent  occupation  www  vehicle_type  \\\n0   65a713cc1dfebcf6ca173f0d  20.0       0           5    1             2   \n1   65a714291dfebcf6ca173f0e  56.0       1           7    1             2   \n2   65a714641dfebcf6ca173f0f  19.0       0           5    1             1   \n3   65a71f2e1dfebcf6ca173f12  60.0       2           6    2             2   \n4   65a723fd1dfebcf6ca173f15  49.0       1           3    1             2   \n..                       ...   ...     ...         ...  ...           ...   \n82  65aadc741d099129aa714f80   0.0       2           0    2             2   \n83  65aadc851d099129aa714f81   0.0       2           0    2             2   \n84  65aadc911d099129aa714f82   0.0       2           0    2             2   \n85  65aadca61d099129aa714f83   0.0       2           0    2             2   \n86  65aadcbb1d099129aa714f84   0.0       2           0    2             2   \n\n    number_seats  business_field  number_insured_vehicles  vehicle_range  \\\n0              5               8                      0.0              2   \n1              5               8                      0.0              1   \n2              2               8                      0.0              1   \n3              3               5                      1.0              1   \n4              5               8                      0.0              1   \n..           ...             ...                      ...            ...   \n82             5               7                     20.0              0   \n83             5               6                     20.0              0   \n84             5               6                     21.0              0   \n85             5               3                     18.0              0   \n86             5               0                     18.0              0   \n\n    vehicle_category  vehicle_state  \n0                  1              2  \n1                  1              2  \n2                  1              1  \n3                  1              0  \n4                  1              2  \n..               ...            ...  \n82                 0              0  \n83                 0              0  \n84                 0              0  \n85                 0              0  \n86                 0              0  \n\n[87 rows x 12 columns]",
      "text/html": "<div>\n<style scoped>\n    .dataframe tbody tr th:only-of-type {\n        vertical-align: middle;\n    }\n\n    .dataframe tbody tr th {\n        vertical-align: top;\n    }\n\n    .dataframe thead th {\n        text-align: right;\n    }\n</style>\n<table border=\"1\" class=\"dataframe\">\n  <thead>\n    <tr style=\"text-align: right;\">\n      <th></th>\n      <th>_id</th>\n      <th>age</th>\n      <th>parent</th>\n      <th>occupation</th>\n      <th>www</th>\n      <th>vehicle_type</th>\n      <th>number_seats</th>\n      <th>business_field</th>\n      <th>number_insured_vehicles</th>\n      <th>vehicle_range</th>\n      <th>vehicle_category</th>\n      <th>vehicle_state</th>\n    </tr>\n  </thead>\n  <tbody>\n    <tr>\n      <th>0</th>\n      <td>65a713cc1dfebcf6ca173f0d</td>\n      <td>20.0</td>\n      <td>0</td>\n      <td>5</td>\n      <td>1</td>\n      <td>2</td>\n      <td>5</td>\n      <td>8</td>\n      <td>0.0</td>\n      <td>2</td>\n      <td>1</td>\n      <td>2</td>\n    </tr>\n    <tr>\n      <th>1</th>\n      <td>65a714291dfebcf6ca173f0e</td>\n      <td>56.0</td>\n      <td>1</td>\n      <td>7</td>\n      <td>1</td>\n      <td>2</td>\n      <td>5</td>\n      <td>8</td>\n      <td>0.0</td>\n      <td>1</td>\n      <td>1</td>\n      <td>2</td>\n    </tr>\n    <tr>\n      <th>2</th>\n      <td>65a714641dfebcf6ca173f0f</td>\n      <td>19.0</td>\n      <td>0</td>\n      <td>5</td>\n      <td>1</td>\n      <td>1</td>\n      <td>2</td>\n      <td>8</td>\n      <td>0.0</td>\n      <td>1</td>\n      <td>1</td>\n      <td>1</td>\n    </tr>\n    <tr>\n      <th>3</th>\n      <td>65a71f2e1dfebcf6ca173f12</td>\n      <td>60.0</td>\n      <td>2</td>\n      <td>6</td>\n      <td>2</td>\n      <td>2</td>\n      <td>3</td>\n      <td>5</td>\n      <td>1.0</td>\n      <td>1</td>\n      <td>1</td>\n      <td>0</td>\n    </tr>\n    <tr>\n      <th>4</th>\n      <td>65a723fd1dfebcf6ca173f15</td>\n      <td>49.0</td>\n      <td>1</td>\n      <td>3</td>\n      <td>1</td>\n      <td>2</td>\n      <td>5</td>\n      <td>8</td>\n      <td>0.0</td>\n      <td>1</td>\n      <td>1</td>\n      <td>2</td>\n    </tr>\n    <tr>\n      <th>...</th>\n      <td>...</td>\n      <td>...</td>\n      <td>...</td>\n      <td>...</td>\n      <td>...</td>\n      <td>...</td>\n      <td>...</td>\n      <td>...</td>\n      <td>...</td>\n      <td>...</td>\n      <td>...</td>\n      <td>...</td>\n    </tr>\n    <tr>\n      <th>82</th>\n      <td>65aadc741d099129aa714f80</td>\n      <td>0.0</td>\n      <td>2</td>\n      <td>0</td>\n      <td>2</td>\n      <td>2</td>\n      <td>5</td>\n      <td>7</td>\n      <td>20.0</td>\n      <td>0</td>\n      <td>0</td>\n      <td>0</td>\n    </tr>\n    <tr>\n      <th>83</th>\n      <td>65aadc851d099129aa714f81</td>\n      <td>0.0</td>\n      <td>2</td>\n      <td>0</td>\n      <td>2</td>\n      <td>2</td>\n      <td>5</td>\n      <td>6</td>\n      <td>20.0</td>\n      <td>0</td>\n      <td>0</td>\n      <td>0</td>\n    </tr>\n    <tr>\n      <th>84</th>\n      <td>65aadc911d099129aa714f82</td>\n      <td>0.0</td>\n      <td>2</td>\n      <td>0</td>\n      <td>2</td>\n      <td>2</td>\n      <td>5</td>\n      <td>6</td>\n      <td>21.0</td>\n      <td>0</td>\n      <td>0</td>\n      <td>0</td>\n    </tr>\n    <tr>\n      <th>85</th>\n      <td>65aadca61d099129aa714f83</td>\n      <td>0.0</td>\n      <td>2</td>\n      <td>0</td>\n      <td>2</td>\n      <td>2</td>\n      <td>5</td>\n      <td>3</td>\n      <td>18.0</td>\n      <td>0</td>\n      <td>0</td>\n      <td>0</td>\n    </tr>\n    <tr>\n      <th>86</th>\n      <td>65aadcbb1d099129aa714f84</td>\n      <td>0.0</td>\n      <td>2</td>\n      <td>0</td>\n      <td>2</td>\n      <td>2</td>\n      <td>5</td>\n      <td>0</td>\n      <td>18.0</td>\n      <td>0</td>\n      <td>0</td>\n      <td>0</td>\n    </tr>\n  </tbody>\n</table>\n<p>87 rows × 12 columns</p>\n</div>"
     },
     "execution_count": 175,
     "metadata": {},
     "output_type": "execute_result"
    }
   ],
   "source": [
    "from sklearn import preprocessing\n",
    "label_encoder = preprocessing.LabelEncoder()\n",
    "label_encoder2 = preprocessing.LabelEncoder()\n",
    "\n",
    "processed_data['occupation']= label_encoder.fit_transform(processed_data['occupation'])\n",
    "processed_data['occupation'].unique()\n",
    "processed_data['parent']= processed_data['parent'].map({True:1, False:0, 'unknown':2})\n",
    "\n",
    "processed_data['www']= processed_data['www'].map({True:1, False:0, 'unknown':2})\n",
    "processed_data['vehicle_type']= processed_data['vehicle_type'].map({'motorcycle':1, 'car':2,'truck':3, 'bus':4, 'boat':5, 'unknown':0})\n",
    "processed_data['vehicle_range']= processed_data['vehicle_range'].map({'Economic':1, 'Midrange':2,'Luxury':3, 'unknown':0})\n",
    "processed_data['vehicle_category']= processed_data['vehicle_category'].map({'Diesel':1, 'Electric':2,'Hybrid':3, 'unknown':0})\n",
    "processed_data['vehicle_state']= processed_data['vehicle_state'].map({'Vetuste':1, 'Recent':2, np.NAN:0})\n",
    "\n",
    "processed_data['business_field']= label_encoder2.fit_transform(processed_data['business_field'])\n",
    "processed_data['business_field'].unique()\n",
    "\n",
    "import joblib\n",
    "# saving my processor will maintain the same labels used during the preprocessing phase of my actual dataset, \n",
    "# so I can use it with new datapoints without worrying about processing phase giving new labels for same values and getting falsified results \n",
    "joblib.dump(label_encoder, \"/Users/aya/Desktop/ML/insurance-recommender/src/ml/data/label_encoder.joblib\")\n",
    "joblib.dump(label_encoder2, \"/Users/aya/Desktop/ML/insurance-recommender/src/ml/data/label_encoder2.joblib\")\n",
    "processed_data"
   ],
   "metadata": {
    "collapsed": false,
    "ExecuteTime": {
     "end_time": "2024-01-20T13:29:50.314368Z",
     "start_time": "2024-01-20T13:29:50.146679Z"
    }
   },
   "id": "7bf99c8beba3f61d",
   "execution_count": 175
  },
  {
   "cell_type": "code",
   "outputs": [
    {
     "name": "stdout",
     "output_type": "stream",
     "text": [
      "                         _id       age    parent  occupation      www  \\\n",
      "0   65a713cc1dfebcf6ca173f0d -0.110015 -1.309233    0.772855 -0.47231   \n",
      "1   65a714291dfebcf6ca173f0e  1.554566 -0.170200    1.515821 -0.47231   \n",
      "2   65a714641dfebcf6ca173f0f -0.156254 -1.309233    0.772855 -0.47231   \n",
      "3   65a71f2e1dfebcf6ca173f12  1.739519  0.968832    1.144338  0.94462   \n",
      "4   65a723fd1dfebcf6ca173f15  1.230897 -0.170200    0.029889 -0.47231   \n",
      "..                       ...       ...       ...         ...      ...   \n",
      "82  65aadc741d099129aa714f80 -1.034783  0.968832   -1.084559  0.94462   \n",
      "83  65aadc851d099129aa714f81 -1.034783  0.968832   -1.084559  0.94462   \n",
      "84  65aadc911d099129aa714f82 -1.034783  0.968832   -1.084559  0.94462   \n",
      "85  65aadca61d099129aa714f83 -1.034783  0.968832   -1.084559  0.94462   \n",
      "86  65aadcbb1d099129aa714f84 -1.034783  0.968832   -1.084559  0.94462   \n",
      "\n",
      "    vehicle_type  number_seats  business_field  number_insured_vehicles  \\\n",
      "0      -0.283013     -0.251499        0.798898                -0.662475   \n",
      "1      -0.283013     -0.251499        0.798898                -0.662475   \n",
      "2      -1.514117     -0.776630        0.798898                -0.662475   \n",
      "3      -0.283013     -0.601587       -0.537720                -0.527498   \n",
      "4      -0.283013     -0.251499        0.798898                -0.662475   \n",
      "..           ...           ...             ...                      ...   \n",
      "82     -0.283013     -0.251499        0.353359                 2.037072   \n",
      "83     -0.283013     -0.251499       -0.092181                 2.037072   \n",
      "84     -0.283013     -0.251499       -0.092181                 2.172049   \n",
      "85     -0.283013     -0.251499       -1.428798                 1.767117   \n",
      "86     -0.283013     -0.251499       -2.765415                 1.767117   \n",
      "\n",
      "    vehicle_range  vehicle_category  vehicle_state  \n",
      "0        1.384205          0.219529       1.105979  \n",
      "1        0.203559          0.219529       1.105979  \n",
      "2        0.203559          0.219529       0.048614  \n",
      "3        0.203559          0.219529      -1.008750  \n",
      "4        0.203559          0.219529       1.105979  \n",
      "..            ...               ...            ...  \n",
      "82      -0.977086         -0.974158      -1.008750  \n",
      "83      -0.977086         -0.974158      -1.008750  \n",
      "84      -0.977086         -0.974158      -1.008750  \n",
      "85      -0.977086         -0.974158      -1.008750  \n",
      "86      -0.977086         -0.974158      -1.008750  \n",
      "\n",
      "[87 rows x 12 columns]\n"
     ]
    },
    {
     "data": {
      "text/plain": "['/Users/aya/Desktop/ML/insurance-recommender/src/ml/data/scaler.joblib']"
     },
     "execution_count": 176,
     "metadata": {},
     "output_type": "execute_result"
    }
   ],
   "source": [
    "from sklearn.preprocessing import StandardScaler\n",
    "from joblib import dump\n",
    "\n",
    "numeric_columns = ['age', 'parent', 'occupation', 'www', 'vehicle_type', 'number_seats',\n",
    "                       'business_field', 'number_insured_vehicles', 'vehicle_range', 'vehicle_category',\n",
    "                       'vehicle_state']\n",
    "\n",
    "selected_columns = processed_data[numeric_columns]\n",
    "\n",
    "# Standardize the data\n",
    "scaler = StandardScaler()\n",
    "scaled_data = scaler.fit_transform(selected_columns)\n",
    "\n",
    "# Create a DataFrame with the scaled data\n",
    "scaled_df = pd.DataFrame(data=scaled_data, columns=numeric_columns)\n",
    "\n",
    "# Replace the original numeric columns with the scaled ones\n",
    "processed_data[numeric_columns] = scaled_df\n",
    "print(processed_data)\n",
    "\n",
    "scaler_filename = \"/Users/aya/Desktop/ML/insurance-recommender/src/ml/data/scaler.joblib\"\n",
    "dump(scaler, scaler_filename)"
   ],
   "metadata": {
    "collapsed": false,
    "ExecuteTime": {
     "end_time": "2024-01-20T13:29:50.389242Z",
     "start_time": "2024-01-20T13:29:50.176167Z"
    }
   },
   "id": "60cf722b05b8bad0",
   "execution_count": 176
  },
  {
   "cell_type": "code",
   "outputs": [
    {
     "data": {
      "text/plain": "['/Users/aya/Desktop/ML/insurance-recommender/src/ml/data/pca_transformer.joblib']"
     },
     "execution_count": 177,
     "metadata": {},
     "output_type": "execute_result"
    }
   ],
   "source": [
    "from sklearn.decomposition import PCA\n",
    "import pandas as pd\n",
    "\n",
    "# Assuming processed_data is your DataFrame\n",
    "selected_columns = processed_data[numeric_columns]\n",
    "\n",
    "# Instantiate PCA with 3 components\n",
    "pca = PCA(n_components=3)\n",
    "\n",
    "# Fit and transform the selected columns\n",
    "pca_data = pca.fit_transform(selected_columns)\n",
    "\n",
    "# Create new DataFrame with PCA components\n",
    "pca_df = pd.DataFrame(data=pca_data, columns=['PCA1', 'PCA2', 'PCA3'])\n",
    "\n",
    "# Concatenate the original DataFrame excluding numeric_columns with the PCA DataFrame\n",
    "processed_data = pd.concat([processed_data.drop(columns=numeric_columns), pca_df], axis=1)\n",
    "\n",
    "# Display the updated DataFrame\n",
    "processed_data\n",
    "\n",
    "scaler_filename = \"/Users/aya/Desktop/ML/insurance-recommender/src/ml/data/pca_transformer.joblib\"\n",
    "dump(pca, scaler_filename)"
   ],
   "metadata": {
    "collapsed": false,
    "ExecuteTime": {
     "end_time": "2024-01-20T13:29:50.406536Z",
     "start_time": "2024-01-20T13:29:50.200327Z"
    }
   },
   "id": "be08090b4439ffe9",
   "execution_count": 177
  },
  {
   "cell_type": "code",
   "outputs": [],
   "source": [
    "processed_data.to_csv('/Users/aya/Desktop/ML/insurance-recommender/data/processed/processed_user_data.csv', index=False)"
   ],
   "metadata": {
    "collapsed": false,
    "ExecuteTime": {
     "end_time": "2024-01-20T13:29:50.408492Z",
     "start_time": "2024-01-20T13:29:50.247077Z"
    }
   },
   "id": "ef8627467b0b8da5",
   "execution_count": 178
  },
  {
   "cell_type": "code",
   "outputs": [],
   "source": [],
   "metadata": {
    "collapsed": false,
    "ExecuteTime": {
     "end_time": "2024-01-20T13:29:50.504628Z",
     "start_time": "2024-01-20T13:29:50.265762Z"
    }
   },
   "id": "e7b8131237633b80",
   "execution_count": 178
  },
  {
   "cell_type": "code",
   "outputs": [],
   "source": [],
   "metadata": {
    "collapsed": false,
    "ExecuteTime": {
     "end_time": "2024-01-20T13:29:50.506104Z",
     "start_time": "2024-01-20T13:29:50.274227Z"
    }
   },
   "id": "8c53803391de265",
   "execution_count": 178
  }
 ],
 "metadata": {
  "kernelspec": {
   "display_name": "Python 3",
   "language": "python",
   "name": "python3"
  },
  "language_info": {
   "codemirror_mode": {
    "name": "ipython",
    "version": 2
   },
   "file_extension": ".py",
   "mimetype": "text/x-python",
   "name": "python",
   "nbconvert_exporter": "python",
   "pygments_lexer": "ipython2",
   "version": "2.7.6"
  }
 },
 "nbformat": 4,
 "nbformat_minor": 5
}
