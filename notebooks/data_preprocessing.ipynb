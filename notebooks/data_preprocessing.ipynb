{
 "cells": [
  {
   "cell_type": "code",
   "execution_count": 20,
   "id": "initial_id",
   "metadata": {
    "collapsed": true,
    "ExecuteTime": {
     "end_time": "2024-01-20T16:47:02.035731Z",
     "start_time": "2024-01-20T16:47:02.016845Z"
    }
   },
   "outputs": [],
   "source": [
    "import numpy as np\n",
    "from src.ml.data.data_loader import load_raw_data\n",
    "import pandas as pd"
   ]
  },
  {
   "cell_type": "code",
   "outputs": [
    {
     "data": {
      "text/plain": "                         _id                    fullname   age parent  \\\n83  65abf36abb5fc22fe3d2718f  Ihsan El Bakkali El Ammari  39.0   True   \n84  65abf36ebb5fc22fe3d27190  Ihsan El Bakkali El Ammari  40.0   True   \n85  65abf39ebb5fc22fe3d27191  Ihsan El Bakkali El Ammari  35.0   True   \n86  65abf3d8bb5fc22fe3d27192                 aya cluster  19.0  False   \n87  65abf408bb5fc22fe3d27193                 aya cluster  19.0  False   \n\n        occupation    www vehicle_type vehicle_make vehicle_model  \\\n83  femme au foyer  False          car       toyota           chr   \n84  femme au foyer  False          car       toyota           chr   \n85  femme au foyer  False          car       toyota           chr   \n86         student   True          car         audi         rs q4   \n87         student   True          car         audi         rs q4   \n\n    vehicle_year  number_seats business_field  number_insured_vehicles  \\\n83        2021.0             5            NaN                      NaN   \n84        2021.0             5            NaN                      NaN   \n85        2021.0             6            NaN                      NaN   \n86        2020.0             5            NaN                      NaN   \n87        2020.0             5            NaN                      NaN   \n\n                   timestamp  \n83  2024-01-20T16:23:06.373Z  \n84  2024-01-20T16:23:10.663Z  \n85  2024-01-20T16:23:58.664Z  \n86  2024-01-20T16:24:56.702Z  \n87  2024-01-20T16:25:44.157Z  ",
      "text/html": "<div>\n<style scoped>\n    .dataframe tbody tr th:only-of-type {\n        vertical-align: middle;\n    }\n\n    .dataframe tbody tr th {\n        vertical-align: top;\n    }\n\n    .dataframe thead th {\n        text-align: right;\n    }\n</style>\n<table border=\"1\" class=\"dataframe\">\n  <thead>\n    <tr style=\"text-align: right;\">\n      <th></th>\n      <th>_id</th>\n      <th>fullname</th>\n      <th>age</th>\n      <th>parent</th>\n      <th>occupation</th>\n      <th>www</th>\n      <th>vehicle_type</th>\n      <th>vehicle_make</th>\n      <th>vehicle_model</th>\n      <th>vehicle_year</th>\n      <th>number_seats</th>\n      <th>business_field</th>\n      <th>number_insured_vehicles</th>\n      <th>timestamp</th>\n    </tr>\n  </thead>\n  <tbody>\n    <tr>\n      <th>83</th>\n      <td>65abf36abb5fc22fe3d2718f</td>\n      <td>Ihsan El Bakkali El Ammari</td>\n      <td>39.0</td>\n      <td>True</td>\n      <td>femme au foyer</td>\n      <td>False</td>\n      <td>car</td>\n      <td>toyota</td>\n      <td>chr</td>\n      <td>2021.0</td>\n      <td>5</td>\n      <td>NaN</td>\n      <td>NaN</td>\n      <td>2024-01-20T16:23:06.373Z</td>\n    </tr>\n    <tr>\n      <th>84</th>\n      <td>65abf36ebb5fc22fe3d27190</td>\n      <td>Ihsan El Bakkali El Ammari</td>\n      <td>40.0</td>\n      <td>True</td>\n      <td>femme au foyer</td>\n      <td>False</td>\n      <td>car</td>\n      <td>toyota</td>\n      <td>chr</td>\n      <td>2021.0</td>\n      <td>5</td>\n      <td>NaN</td>\n      <td>NaN</td>\n      <td>2024-01-20T16:23:10.663Z</td>\n    </tr>\n    <tr>\n      <th>85</th>\n      <td>65abf39ebb5fc22fe3d27191</td>\n      <td>Ihsan El Bakkali El Ammari</td>\n      <td>35.0</td>\n      <td>True</td>\n      <td>femme au foyer</td>\n      <td>False</td>\n      <td>car</td>\n      <td>toyota</td>\n      <td>chr</td>\n      <td>2021.0</td>\n      <td>6</td>\n      <td>NaN</td>\n      <td>NaN</td>\n      <td>2024-01-20T16:23:58.664Z</td>\n    </tr>\n    <tr>\n      <th>86</th>\n      <td>65abf3d8bb5fc22fe3d27192</td>\n      <td>aya cluster</td>\n      <td>19.0</td>\n      <td>False</td>\n      <td>student</td>\n      <td>True</td>\n      <td>car</td>\n      <td>audi</td>\n      <td>rs q4</td>\n      <td>2020.0</td>\n      <td>5</td>\n      <td>NaN</td>\n      <td>NaN</td>\n      <td>2024-01-20T16:24:56.702Z</td>\n    </tr>\n    <tr>\n      <th>87</th>\n      <td>65abf408bb5fc22fe3d27193</td>\n      <td>aya cluster</td>\n      <td>19.0</td>\n      <td>False</td>\n      <td>student</td>\n      <td>True</td>\n      <td>car</td>\n      <td>audi</td>\n      <td>rs q4</td>\n      <td>2020.0</td>\n      <td>5</td>\n      <td>NaN</td>\n      <td>NaN</td>\n      <td>2024-01-20T16:25:44.157Z</td>\n    </tr>\n  </tbody>\n</table>\n</div>"
     },
     "execution_count": 21,
     "metadata": {},
     "output_type": "execute_result"
    }
   ],
   "source": [
    "raw_data_path = '/Users/aya/Desktop/ML/insurance-recommender/data/raw/user_data.csv'\n",
    "\n",
    "raw_data = load_raw_data(raw_data_path)\n",
    "processed_data = raw_data\n",
    "processed_data.tail()"
   ],
   "metadata": {
    "collapsed": false,
    "ExecuteTime": {
     "end_time": "2024-01-20T16:47:02.062671Z",
     "start_time": "2024-01-20T16:47:02.024494Z"
    }
   },
   "id": "2040a2533ae480e1",
   "execution_count": 21
  },
  {
   "cell_type": "code",
   "outputs": [
    {
     "name": "stderr",
     "output_type": "stream",
     "text": [
      "/var/folders/75/jz3hh0b14k31vxtt1l8fc70m0000gn/T/ipykernel_7540/1793181656.py:1: FutureWarning: A value is trying to be set on a copy of a DataFrame or Series through chained assignment using an inplace method.\n",
      "The behavior will change in pandas 3.0. This inplace method will never work because the intermediate object on which we are setting values always behaves as a copy.\n",
      "\n",
      "For example, when doing 'df[col].method(value, inplace=True)', try using 'df.method({col: value}, inplace=True)' or df[col] = df[col].method(value) instead, to perform the operation inplace on the original object.\n",
      "\n",
      "\n",
      "  processed_data[\"vehicle_year\"].fillna(value=0, inplace=True)\n",
      "/var/folders/75/jz3hh0b14k31vxtt1l8fc70m0000gn/T/ipykernel_7540/1793181656.py:2: FutureWarning: A value is trying to be set on a copy of a DataFrame or Series through chained assignment using an inplace method.\n",
      "The behavior will change in pandas 3.0. This inplace method will never work because the intermediate object on which we are setting values always behaves as a copy.\n",
      "\n",
      "For example, when doing 'df[col].method(value, inplace=True)', try using 'df.method({col: value}, inplace=True)' or df[col] = df[col].method(value) instead, to perform the operation inplace on the original object.\n",
      "\n",
      "\n",
      "  processed_data[\"number_insured_vehicles\"].fillna(value=0, inplace=True)\n",
      "/var/folders/75/jz3hh0b14k31vxtt1l8fc70m0000gn/T/ipykernel_7540/1793181656.py:3: FutureWarning: A value is trying to be set on a copy of a DataFrame or Series through chained assignment using an inplace method.\n",
      "The behavior will change in pandas 3.0. This inplace method will never work because the intermediate object on which we are setting values always behaves as a copy.\n",
      "\n",
      "For example, when doing 'df[col].method(value, inplace=True)', try using 'df.method({col: value}, inplace=True)' or df[col] = df[col].method(value) instead, to perform the operation inplace on the original object.\n",
      "\n",
      "\n",
      "  processed_data[\"age\"].fillna(value=0, inplace=True)\n"
     ]
    },
    {
     "data": {
      "text/plain": "                         _id   age parent      occupation    www vehicle_type  \\\n83  65abf36abb5fc22fe3d2718f  39.0   True  femme au foyer  False          car   \n84  65abf36ebb5fc22fe3d27190  40.0   True  femme au foyer  False          car   \n85  65abf39ebb5fc22fe3d27191  35.0   True  femme au foyer  False          car   \n86  65abf3d8bb5fc22fe3d27192  19.0  False         student   True          car   \n87  65abf408bb5fc22fe3d27193  19.0  False         student   True          car   \n\n   vehicle_make vehicle_model  vehicle_year  number_seats business_field  \\\n83       toyota           chr        2021.0             5        unknown   \n84       toyota           chr        2021.0             5        unknown   \n85       toyota           chr        2021.0             6        unknown   \n86         audi         rs q4        2020.0             5        unknown   \n87         audi         rs q4        2020.0             5        unknown   \n\n    number_insured_vehicles  \n83                      0.0  \n84                      0.0  \n85                      0.0  \n86                      0.0  \n87                      0.0  ",
      "text/html": "<div>\n<style scoped>\n    .dataframe tbody tr th:only-of-type {\n        vertical-align: middle;\n    }\n\n    .dataframe tbody tr th {\n        vertical-align: top;\n    }\n\n    .dataframe thead th {\n        text-align: right;\n    }\n</style>\n<table border=\"1\" class=\"dataframe\">\n  <thead>\n    <tr style=\"text-align: right;\">\n      <th></th>\n      <th>_id</th>\n      <th>age</th>\n      <th>parent</th>\n      <th>occupation</th>\n      <th>www</th>\n      <th>vehicle_type</th>\n      <th>vehicle_make</th>\n      <th>vehicle_model</th>\n      <th>vehicle_year</th>\n      <th>number_seats</th>\n      <th>business_field</th>\n      <th>number_insured_vehicles</th>\n    </tr>\n  </thead>\n  <tbody>\n    <tr>\n      <th>83</th>\n      <td>65abf36abb5fc22fe3d2718f</td>\n      <td>39.0</td>\n      <td>True</td>\n      <td>femme au foyer</td>\n      <td>False</td>\n      <td>car</td>\n      <td>toyota</td>\n      <td>chr</td>\n      <td>2021.0</td>\n      <td>5</td>\n      <td>unknown</td>\n      <td>0.0</td>\n    </tr>\n    <tr>\n      <th>84</th>\n      <td>65abf36ebb5fc22fe3d27190</td>\n      <td>40.0</td>\n      <td>True</td>\n      <td>femme au foyer</td>\n      <td>False</td>\n      <td>car</td>\n      <td>toyota</td>\n      <td>chr</td>\n      <td>2021.0</td>\n      <td>5</td>\n      <td>unknown</td>\n      <td>0.0</td>\n    </tr>\n    <tr>\n      <th>85</th>\n      <td>65abf39ebb5fc22fe3d27191</td>\n      <td>35.0</td>\n      <td>True</td>\n      <td>femme au foyer</td>\n      <td>False</td>\n      <td>car</td>\n      <td>toyota</td>\n      <td>chr</td>\n      <td>2021.0</td>\n      <td>6</td>\n      <td>unknown</td>\n      <td>0.0</td>\n    </tr>\n    <tr>\n      <th>86</th>\n      <td>65abf3d8bb5fc22fe3d27192</td>\n      <td>19.0</td>\n      <td>False</td>\n      <td>student</td>\n      <td>True</td>\n      <td>car</td>\n      <td>audi</td>\n      <td>rs q4</td>\n      <td>2020.0</td>\n      <td>5</td>\n      <td>unknown</td>\n      <td>0.0</td>\n    </tr>\n    <tr>\n      <th>87</th>\n      <td>65abf408bb5fc22fe3d27193</td>\n      <td>19.0</td>\n      <td>False</td>\n      <td>student</td>\n      <td>True</td>\n      <td>car</td>\n      <td>audi</td>\n      <td>rs q4</td>\n      <td>2020.0</td>\n      <td>5</td>\n      <td>unknown</td>\n      <td>0.0</td>\n    </tr>\n  </tbody>\n</table>\n</div>"
     },
     "execution_count": 22,
     "metadata": {},
     "output_type": "execute_result"
    }
   ],
   "source": [
    "processed_data[\"vehicle_year\"].fillna(value=0, inplace=True)\n",
    "processed_data[\"number_insured_vehicles\"].fillna(value=0, inplace=True)\n",
    "processed_data[\"age\"].fillna(value=0, inplace=True)\n",
    "processed_data.fillna(value='unknown', inplace=True)\n",
    "\n",
    "# dropping these cols because we do not need it at this stage of code\n",
    "processed_data = processed_data.drop(['timestamp','fullname'], axis=1)\n",
    "processed_data.tail()"
   ],
   "metadata": {
    "collapsed": false,
    "ExecuteTime": {
     "end_time": "2024-01-20T16:47:02.078363Z",
     "start_time": "2024-01-20T16:47:02.045022Z"
    }
   },
   "id": "8e786a957fdba081",
   "execution_count": 22
  },
  {
   "cell_type": "code",
   "outputs": [
    {
     "data": {
      "text/plain": "                         _id   age parent      occupation    www vehicle_type  \\\n83  65abf36abb5fc22fe3d2718f  39.0   True  femme au foyer  False          car   \n84  65abf36ebb5fc22fe3d27190  40.0   True  femme au foyer  False          car   \n85  65abf39ebb5fc22fe3d27191  35.0   True  femme au foyer  False          car   \n86  65abf3d8bb5fc22fe3d27192  19.0  False         student   True          car   \n87  65abf408bb5fc22fe3d27193  19.0  False         student   True          car   \n\n    number_seats business_field  number_insured_vehicles vehicle_range  \\\n83             5        unknown                      0.0      Economic   \n84             5        unknown                      0.0      Economic   \n85             6        unknown                      0.0      Economic   \n86             5        unknown                      0.0      Midrange   \n87             5        unknown                      0.0      Midrange   \n\n   vehicle_category vehicle_state  \n83           Hybrid        Recent  \n84           Hybrid        Recent  \n85           Hybrid        Recent  \n86           Diesel        Recent  \n87           Diesel        Recent  ",
      "text/html": "<div>\n<style scoped>\n    .dataframe tbody tr th:only-of-type {\n        vertical-align: middle;\n    }\n\n    .dataframe tbody tr th {\n        vertical-align: top;\n    }\n\n    .dataframe thead th {\n        text-align: right;\n    }\n</style>\n<table border=\"1\" class=\"dataframe\">\n  <thead>\n    <tr style=\"text-align: right;\">\n      <th></th>\n      <th>_id</th>\n      <th>age</th>\n      <th>parent</th>\n      <th>occupation</th>\n      <th>www</th>\n      <th>vehicle_type</th>\n      <th>number_seats</th>\n      <th>business_field</th>\n      <th>number_insured_vehicles</th>\n      <th>vehicle_range</th>\n      <th>vehicle_category</th>\n      <th>vehicle_state</th>\n    </tr>\n  </thead>\n  <tbody>\n    <tr>\n      <th>83</th>\n      <td>65abf36abb5fc22fe3d2718f</td>\n      <td>39.0</td>\n      <td>True</td>\n      <td>femme au foyer</td>\n      <td>False</td>\n      <td>car</td>\n      <td>5</td>\n      <td>unknown</td>\n      <td>0.0</td>\n      <td>Economic</td>\n      <td>Hybrid</td>\n      <td>Recent</td>\n    </tr>\n    <tr>\n      <th>84</th>\n      <td>65abf36ebb5fc22fe3d27190</td>\n      <td>40.0</td>\n      <td>True</td>\n      <td>femme au foyer</td>\n      <td>False</td>\n      <td>car</td>\n      <td>5</td>\n      <td>unknown</td>\n      <td>0.0</td>\n      <td>Economic</td>\n      <td>Hybrid</td>\n      <td>Recent</td>\n    </tr>\n    <tr>\n      <th>85</th>\n      <td>65abf39ebb5fc22fe3d27191</td>\n      <td>35.0</td>\n      <td>True</td>\n      <td>femme au foyer</td>\n      <td>False</td>\n      <td>car</td>\n      <td>6</td>\n      <td>unknown</td>\n      <td>0.0</td>\n      <td>Economic</td>\n      <td>Hybrid</td>\n      <td>Recent</td>\n    </tr>\n    <tr>\n      <th>86</th>\n      <td>65abf3d8bb5fc22fe3d27192</td>\n      <td>19.0</td>\n      <td>False</td>\n      <td>student</td>\n      <td>True</td>\n      <td>car</td>\n      <td>5</td>\n      <td>unknown</td>\n      <td>0.0</td>\n      <td>Midrange</td>\n      <td>Diesel</td>\n      <td>Recent</td>\n    </tr>\n    <tr>\n      <th>87</th>\n      <td>65abf408bb5fc22fe3d27193</td>\n      <td>19.0</td>\n      <td>False</td>\n      <td>student</td>\n      <td>True</td>\n      <td>car</td>\n      <td>5</td>\n      <td>unknown</td>\n      <td>0.0</td>\n      <td>Midrange</td>\n      <td>Diesel</td>\n      <td>Recent</td>\n    </tr>\n  </tbody>\n</table>\n</div>"
     },
     "execution_count": 23,
     "metadata": {},
     "output_type": "execute_result"
    }
   ],
   "source": [
    "# range\n",
    "economic_cars = ['dacia', 'renault', 'fiat', 'peugeot', 'ford', 'honda', 'hyundai', 'kia', 'nissan', 'subaru', 'toyota', 'volkswagen','cappuccino']\n",
    "midrange_cars = ['audi', 'bmw', 'mazda', 'mercedes', 'volvo','Nissan']\n",
    "luxury_cars = ['aston martin', 'bentley', 'ferrari', 'lamborghini', 'porsche', 'rolls-royce','tesla']\n",
    "\n",
    "# category\n",
    "hybrid_cars =['Prius', 'Insight','Fusion Hybrid', 'Volt','RX Hybrid','Camry Hybrid','Ioniq Hybrid','Niro','i3','3','chr']\n",
    "electric_cars =['s', 'X', 'Y', 'Spark EV', 'i4', 'Kona Electric', 'Soul EV', 'e-tron']\n",
    "diesel_cars =['500', 'logan', 'rs q4', 'Spark EV', 'i4', 'Kona Electric', 'Soul EV', 'e-tron','50cc','lodge']\n",
    "\n",
    "# state\n",
    "vehicle_state=['vetuste','recent']\n",
    "\n",
    "processed_data.loc[processed_data['vehicle_make'].isin(economic_cars), 'vehicle_range'] = 'Economic'\n",
    "processed_data.loc[processed_data['vehicle_make'].isin(midrange_cars), 'vehicle_range'] = 'Midrange'\n",
    "processed_data.loc[processed_data['vehicle_make'].isin(luxury_cars), 'vehicle_range'] = 'Luxury'\n",
    "processed_data.loc[processed_data['vehicle_make'].isin(['unknown']), 'vehicle_range'] = 'unknown'\n",
    "\n",
    "processed_data.loc[processed_data['vehicle_model'].isin(hybrid_cars), 'vehicle_category'] = 'Hybrid'\n",
    "processed_data.loc[processed_data['vehicle_model'].isin(electric_cars), 'vehicle_category'] = 'Electric'\n",
    "processed_data.loc[processed_data['vehicle_model'].isin(diesel_cars), 'vehicle_category'] = 'Diesel'\n",
    "processed_data.loc[processed_data['vehicle_model'].isin(['unknown']), 'vehicle_category'] = 'unknown'\n",
    "\n",
    "processed_data['vehicle_state'] = pd.cut(\n",
    "    processed_data['vehicle_year'],\n",
    "    bins=[1886, 2019, float('inf')],\n",
    "    labels=['Vetuste', 'Recent']\n",
    ")\n",
    "processed_data = processed_data.drop(['vehicle_make','vehicle_model','vehicle_year'], axis=1)\n",
    "\n",
    "processed_data.tail()"
   ],
   "metadata": {
    "collapsed": false,
    "ExecuteTime": {
     "end_time": "2024-01-20T16:47:02.198454Z",
     "start_time": "2024-01-20T16:47:02.085672Z"
    }
   },
   "id": "24e752dfa31334a8",
   "execution_count": 23
  },
  {
   "cell_type": "code",
   "outputs": [
    {
     "data": {
      "text/plain": "                         _id   age  parent  occupation  www  vehicle_type  \\\n0   65a713cc1dfebcf6ca173f0d  20.0       0           4    1             2   \n1   65a714291dfebcf6ca173f0e  56.0       1           6    1             2   \n2   65a714641dfebcf6ca173f0f  19.0       0           4    1             1   \n3   65a71f2e1dfebcf6ca173f12  60.0       2           5    2             2   \n4   65a723fd1dfebcf6ca173f15  49.0       1           1    1             2   \n..                       ...   ...     ...         ...  ...           ...   \n83  65abf36abb5fc22fe3d2718f  39.0       1           3    0             2   \n84  65abf36ebb5fc22fe3d27190  40.0       1           3    0             2   \n85  65abf39ebb5fc22fe3d27191  35.0       1           3    0             2   \n86  65abf3d8bb5fc22fe3d27192  19.0       0           4    1             2   \n87  65abf408bb5fc22fe3d27193  19.0       0           4    1             2   \n\n    number_seats  business_field  number_insured_vehicles  vehicle_range  \\\n0              5               8                      0.0              2   \n1              5               8                      0.0              1   \n2              2               8                      0.0              1   \n3              3               5                      1.0              1   \n4              5               8                      0.0              1   \n..           ...             ...                      ...            ...   \n83             5               8                      0.0              1   \n84             5               8                      0.0              1   \n85             6               8                      0.0              1   \n86             5               8                      0.0              2   \n87             5               8                      0.0              2   \n\n    vehicle_category  vehicle_state  \n0                  1              2  \n1                  1              2  \n2                  1              1  \n3                  1              0  \n4                  1              2  \n..               ...            ...  \n83                 3              2  \n84                 3              2  \n85                 3              2  \n86                 1              2  \n87                 1              2  \n\n[88 rows x 12 columns]",
      "text/html": "<div>\n<style scoped>\n    .dataframe tbody tr th:only-of-type {\n        vertical-align: middle;\n    }\n\n    .dataframe tbody tr th {\n        vertical-align: top;\n    }\n\n    .dataframe thead th {\n        text-align: right;\n    }\n</style>\n<table border=\"1\" class=\"dataframe\">\n  <thead>\n    <tr style=\"text-align: right;\">\n      <th></th>\n      <th>_id</th>\n      <th>age</th>\n      <th>parent</th>\n      <th>occupation</th>\n      <th>www</th>\n      <th>vehicle_type</th>\n      <th>number_seats</th>\n      <th>business_field</th>\n      <th>number_insured_vehicles</th>\n      <th>vehicle_range</th>\n      <th>vehicle_category</th>\n      <th>vehicle_state</th>\n    </tr>\n  </thead>\n  <tbody>\n    <tr>\n      <th>0</th>\n      <td>65a713cc1dfebcf6ca173f0d</td>\n      <td>20.0</td>\n      <td>0</td>\n      <td>4</td>\n      <td>1</td>\n      <td>2</td>\n      <td>5</td>\n      <td>8</td>\n      <td>0.0</td>\n      <td>2</td>\n      <td>1</td>\n      <td>2</td>\n    </tr>\n    <tr>\n      <th>1</th>\n      <td>65a714291dfebcf6ca173f0e</td>\n      <td>56.0</td>\n      <td>1</td>\n      <td>6</td>\n      <td>1</td>\n      <td>2</td>\n      <td>5</td>\n      <td>8</td>\n      <td>0.0</td>\n      <td>1</td>\n      <td>1</td>\n      <td>2</td>\n    </tr>\n    <tr>\n      <th>2</th>\n      <td>65a714641dfebcf6ca173f0f</td>\n      <td>19.0</td>\n      <td>0</td>\n      <td>4</td>\n      <td>1</td>\n      <td>1</td>\n      <td>2</td>\n      <td>8</td>\n      <td>0.0</td>\n      <td>1</td>\n      <td>1</td>\n      <td>1</td>\n    </tr>\n    <tr>\n      <th>3</th>\n      <td>65a71f2e1dfebcf6ca173f12</td>\n      <td>60.0</td>\n      <td>2</td>\n      <td>5</td>\n      <td>2</td>\n      <td>2</td>\n      <td>3</td>\n      <td>5</td>\n      <td>1.0</td>\n      <td>1</td>\n      <td>1</td>\n      <td>0</td>\n    </tr>\n    <tr>\n      <th>4</th>\n      <td>65a723fd1dfebcf6ca173f15</td>\n      <td>49.0</td>\n      <td>1</td>\n      <td>1</td>\n      <td>1</td>\n      <td>2</td>\n      <td>5</td>\n      <td>8</td>\n      <td>0.0</td>\n      <td>1</td>\n      <td>1</td>\n      <td>2</td>\n    </tr>\n    <tr>\n      <th>...</th>\n      <td>...</td>\n      <td>...</td>\n      <td>...</td>\n      <td>...</td>\n      <td>...</td>\n      <td>...</td>\n      <td>...</td>\n      <td>...</td>\n      <td>...</td>\n      <td>...</td>\n      <td>...</td>\n      <td>...</td>\n    </tr>\n    <tr>\n      <th>83</th>\n      <td>65abf36abb5fc22fe3d2718f</td>\n      <td>39.0</td>\n      <td>1</td>\n      <td>3</td>\n      <td>0</td>\n      <td>2</td>\n      <td>5</td>\n      <td>8</td>\n      <td>0.0</td>\n      <td>1</td>\n      <td>3</td>\n      <td>2</td>\n    </tr>\n    <tr>\n      <th>84</th>\n      <td>65abf36ebb5fc22fe3d27190</td>\n      <td>40.0</td>\n      <td>1</td>\n      <td>3</td>\n      <td>0</td>\n      <td>2</td>\n      <td>5</td>\n      <td>8</td>\n      <td>0.0</td>\n      <td>1</td>\n      <td>3</td>\n      <td>2</td>\n    </tr>\n    <tr>\n      <th>85</th>\n      <td>65abf39ebb5fc22fe3d27191</td>\n      <td>35.0</td>\n      <td>1</td>\n      <td>3</td>\n      <td>0</td>\n      <td>2</td>\n      <td>6</td>\n      <td>8</td>\n      <td>0.0</td>\n      <td>1</td>\n      <td>3</td>\n      <td>2</td>\n    </tr>\n    <tr>\n      <th>86</th>\n      <td>65abf3d8bb5fc22fe3d27192</td>\n      <td>19.0</td>\n      <td>0</td>\n      <td>4</td>\n      <td>1</td>\n      <td>2</td>\n      <td>5</td>\n      <td>8</td>\n      <td>0.0</td>\n      <td>2</td>\n      <td>1</td>\n      <td>2</td>\n    </tr>\n    <tr>\n      <th>87</th>\n      <td>65abf408bb5fc22fe3d27193</td>\n      <td>19.0</td>\n      <td>0</td>\n      <td>4</td>\n      <td>1</td>\n      <td>2</td>\n      <td>5</td>\n      <td>8</td>\n      <td>0.0</td>\n      <td>2</td>\n      <td>1</td>\n      <td>2</td>\n    </tr>\n  </tbody>\n</table>\n<p>88 rows × 12 columns</p>\n</div>"
     },
     "execution_count": 24,
     "metadata": {},
     "output_type": "execute_result"
    }
   ],
   "source": [
    "from sklearn import preprocessing\n",
    "label_encoder = preprocessing.LabelEncoder()\n",
    "label_encoder2 = preprocessing.LabelEncoder()\n",
    "\n",
    "processed_data['occupation']= label_encoder.fit_transform(processed_data['occupation'])\n",
    "processed_data['occupation'].unique()\n",
    "processed_data['parent']= processed_data['parent'].map({True:1, False:0, 'unknown':2})\n",
    "\n",
    "processed_data['www']= processed_data['www'].map({True:1, False:0, 'unknown':2})\n",
    "processed_data['vehicle_type']= processed_data['vehicle_type'].map({'motorcycle':1, 'car':2,'truck':3, 'bus':4, 'boat':5, 'unknown':0})\n",
    "processed_data['vehicle_range']= processed_data['vehicle_range'].map({'Economic':1, 'Midrange':2,'Luxury':3, 'unknown':0})\n",
    "processed_data['vehicle_category']= processed_data['vehicle_category'].map({'Diesel':1, 'Electric':2,'Hybrid':3, 'unknown':0})\n",
    "processed_data['vehicle_state']= processed_data['vehicle_state'].map({'Vetuste':1, 'Recent':2, np.NAN:0})\n",
    "\n",
    "processed_data['business_field']= label_encoder2.fit_transform(processed_data['business_field'])\n",
    "processed_data['business_field'].unique()\n",
    "\n",
    "import joblib\n",
    "# saving my processor will maintain the same labels used during the preprocessing phase of my actual dataset, \n",
    "# so I can use it with new datapoints without worrying about processing phase giving new labels for same values and getting falsified results \n",
    "joblib.dump(label_encoder, \"/Users/aya/Desktop/ML/insurance-recommender/src/ml/data/label_encoder.joblib\")\n",
    "joblib.dump(label_encoder2, \"/Users/aya/Desktop/ML/insurance-recommender/src/ml/data/label_encoder2.joblib\")\n",
    "processed_data"
   ],
   "metadata": {
    "collapsed": false,
    "ExecuteTime": {
     "end_time": "2024-01-20T16:47:02.331407Z",
     "start_time": "2024-01-20T16:47:02.112444Z"
    }
   },
   "id": "7bf99c8beba3f61d",
   "execution_count": 24
  },
  {
   "cell_type": "code",
   "outputs": [
    {
     "name": "stdout",
     "output_type": "stream",
     "text": [
      "                         _id       age    parent  occupation       www  \\\n",
      "0   65a713cc1dfebcf6ca173f0d -0.123654 -1.340713    0.711317 -0.356663   \n",
      "1   65a714291dfebcf6ca173f0e  1.536239 -0.184019    1.592950 -0.356663   \n",
      "2   65a714641dfebcf6ca173f0f -0.169762 -1.340713    0.711317 -0.356663   \n",
      "3   65a71f2e1dfebcf6ca173f12  1.720671  0.972674    1.152133  0.951101   \n",
      "4   65a723fd1dfebcf6ca173f15  1.213482 -0.184019   -0.611132 -0.356663   \n",
      "..                       ...       ...       ...         ...       ...   \n",
      "83  65abf36abb5fc22fe3d2718f  0.752401 -0.184019    0.270501 -1.664427   \n",
      "84  65abf36ebb5fc22fe3d27190  0.798509 -0.184019    0.270501 -1.664427   \n",
      "85  65abf39ebb5fc22fe3d27191  0.567968 -0.184019    0.270501 -1.664427   \n",
      "86  65abf3d8bb5fc22fe3d27192 -0.169762 -1.340713    0.711317 -0.356663   \n",
      "87  65abf408bb5fc22fe3d27193 -0.169762 -1.340713    0.711317 -0.356663   \n",
      "\n",
      "    vehicle_type  number_seats  business_field  number_insured_vehicles  \\\n",
      "0      -0.281272     -0.252058        0.791481                -0.657064   \n",
      "1      -0.281272     -0.252058        0.791481                -0.657064   \n",
      "2      -1.518869     -0.780181        0.791481                -0.657064   \n",
      "3      -0.281272     -0.604140       -0.547948                -0.521650   \n",
      "4      -0.281272     -0.252058        0.791481                -0.657064   \n",
      "..           ...           ...             ...                      ...   \n",
      "83     -0.281272     -0.252058        0.791481                -0.657064   \n",
      "84     -0.281272     -0.252058        0.791481                -0.657064   \n",
      "85     -0.281272     -0.076018        0.791481                -0.657064   \n",
      "86     -0.281272     -0.252058        0.791481                -0.657064   \n",
      "87     -0.281272     -0.252058        0.791481                -0.657064   \n",
      "\n",
      "    vehicle_range  vehicle_category  vehicle_state  \n",
      "0        1.442221          0.199187       1.092114  \n",
      "1        0.221880          0.199187       1.092114  \n",
      "2        0.221880          0.199187       0.036004  \n",
      "3        0.221880          0.199187      -1.020106  \n",
      "4        0.221880          0.199187       1.092114  \n",
      "..            ...               ...            ...  \n",
      "83       0.221880          2.536317       1.092114  \n",
      "84       0.221880          2.536317       1.092114  \n",
      "85       0.221880          2.536317       1.092114  \n",
      "86       1.442221          0.199187       1.092114  \n",
      "87       1.442221          0.199187       1.092114  \n",
      "\n",
      "[88 rows x 12 columns]\n"
     ]
    },
    {
     "data": {
      "text/plain": "['/Users/aya/Desktop/ML/insurance-recommender/src/ml/data/scaler.joblib']"
     },
     "execution_count": 25,
     "metadata": {},
     "output_type": "execute_result"
    }
   ],
   "source": [
    "from sklearn.preprocessing import StandardScaler\n",
    "from joblib import dump\n",
    "\n",
    "numeric_columns = ['age', 'parent', 'occupation', 'www', 'vehicle_type', 'number_seats',\n",
    "                       'business_field', 'number_insured_vehicles', 'vehicle_range', 'vehicle_category',\n",
    "                       'vehicle_state']\n",
    "\n",
    "selected_columns = processed_data[numeric_columns]\n",
    "\n",
    "# Standardize the data\n",
    "scaler = StandardScaler()\n",
    "scaled_data = scaler.fit_transform(selected_columns)\n",
    "\n",
    "# Create a DataFrame with the scaled data\n",
    "scaled_df = pd.DataFrame(data=scaled_data, columns=numeric_columns)\n",
    "\n",
    "# Replace the original numeric columns with the scaled ones\n",
    "processed_data[numeric_columns] = scaled_df\n",
    "print(processed_data)\n",
    "\n",
    "scaler_filename = \"/Users/aya/Desktop/ML/insurance-recommender/src/ml/data/scaler.joblib\"\n",
    "dump(scaler, scaler_filename)"
   ],
   "metadata": {
    "collapsed": false,
    "ExecuteTime": {
     "end_time": "2024-01-20T16:47:02.413374Z",
     "start_time": "2024-01-20T16:47:02.192792Z"
    }
   },
   "id": "60cf722b05b8bad0",
   "execution_count": 25
  },
  {
   "cell_type": "code",
   "outputs": [
    {
     "data": {
      "text/plain": "['/Users/aya/Desktop/ML/insurance-recommender/src/ml/data/pca_transformer.joblib']"
     },
     "execution_count": 26,
     "metadata": {},
     "output_type": "execute_result"
    }
   ],
   "source": [
    "from sklearn.decomposition import PCA\n",
    "import pandas as pd\n",
    "\n",
    "# Assuming processed_data is your DataFrame\n",
    "selected_columns = processed_data[numeric_columns]\n",
    "\n",
    "# Instantiate PCA with 3 components\n",
    "pca = PCA(n_components=3)\n",
    "\n",
    "# Fit and transform the selected columns\n",
    "pca_data = pca.fit_transform(selected_columns)\n",
    "\n",
    "# Create new DataFrame with PCA components\n",
    "pca_df = pd.DataFrame(data=pca_data, columns=['PCA1', 'PCA2', 'PCA3'])\n",
    "\n",
    "# Concatenate the original DataFrame excluding numeric_columns with the PCA DataFrame\n",
    "processed_data = pd.concat([processed_data.drop(columns=numeric_columns), pca_df], axis=1)\n",
    "\n",
    "scaler_filename = \"/Users/aya/Desktop/ML/insurance-recommender/src/ml/data/pca_transformer.joblib\"\n",
    "dump(pca, scaler_filename)\n",
    "\n",
    "processed_data"
   ],
   "metadata": {
    "collapsed": false,
    "ExecuteTime": {
     "end_time": "2024-01-20T16:47:02.601211Z",
     "start_time": "2024-01-20T16:47:02.344381Z"
    }
   },
   "id": "be08090b4439ffe9",
   "execution_count": 26
  },
  {
   "cell_type": "code",
   "outputs": [],
   "source": [
    "processed_data.to_csv('/Users/aya/Desktop/ML/insurance-recommender/data/processed/processed_user_data.csv', index=False)"
   ],
   "metadata": {
    "collapsed": false,
    "ExecuteTime": {
     "end_time": "2024-01-20T16:47:02.699360Z",
     "start_time": "2024-01-20T16:47:02.520061Z"
    }
   },
   "id": "ef8627467b0b8da5",
   "execution_count": 27
  },
  {
   "cell_type": "code",
   "outputs": [],
   "source": [],
   "metadata": {
    "collapsed": false,
    "ExecuteTime": {
     "end_time": "2024-01-20T16:47:02.828613Z",
     "start_time": "2024-01-20T16:47:02.681086Z"
    }
   },
   "id": "e7b8131237633b80",
   "execution_count": 27
  },
  {
   "cell_type": "code",
   "outputs": [],
   "source": [],
   "metadata": {
    "collapsed": false,
    "ExecuteTime": {
     "end_time": "2024-01-20T16:47:02.849434Z",
     "start_time": "2024-01-20T16:47:02.775409Z"
    }
   },
   "id": "8c53803391de265",
   "execution_count": 27
  }
 ],
 "metadata": {
  "kernelspec": {
   "display_name": "Python 3",
   "language": "python",
   "name": "python3"
  },
  "language_info": {
   "codemirror_mode": {
    "name": "ipython",
    "version": 2
   },
   "file_extension": ".py",
   "mimetype": "text/x-python",
   "name": "python",
   "nbconvert_exporter": "python",
   "pygments_lexer": "ipython2",
   "version": "2.7.6"
  }
 },
 "nbformat": 4,
 "nbformat_minor": 5
}
