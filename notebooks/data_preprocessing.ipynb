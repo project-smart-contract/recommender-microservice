{
 "cells": [
  {
   "cell_type": "code",
   "execution_count": 319,
   "id": "initial_id",
   "metadata": {
    "collapsed": true,
    "ExecuteTime": {
     "end_time": "2024-01-17T23:02:13.980823Z",
     "start_time": "2024-01-17T23:02:13.967146Z"
    }
   },
   "outputs": [],
   "source": [
    "import numpy as np\n",
    "from src.ml.data.data_loader import load_raw_data\n",
    "import pandas as pd"
   ]
  },
  {
   "cell_type": "code",
   "outputs": [
    {
     "data": {
      "text/plain": "                        _id                       fullname  age parent  \\\n0  65a713cc1dfebcf6ca173f0d                      Aya Hamza   20  False   \n1  65a714291dfebcf6ca173f0e                   Hicham Hamza   56   True   \n2  65a714641dfebcf6ca173f0f                  Kamilia Hamza   19  False   \n3  65a71c7f1dfebcf6ca173f11  Mohammed El Bakkali El Ammari   25    NaN   \n4  65a71f2e1dfebcf6ca173f12                  Mokhtar Hamza   60    NaN   \n5  65a720ac1dfebcf6ca173f13                Said Benjelloun   40    NaN   \n6  65a722bb1dfebcf6ca173f14                     anas znagi   37    NaN   \n7  65a723fd1dfebcf6ca173f15                    Laila Sabri   49   True   \n8  65a724811dfebcf6ca173f16                     Aya Kammah   23  False   \n9  65a724ed1dfebcf6ca173f17     Ihsan El bakkali EL ammari   30   True   \n\n   occupation    www vehicle_type vehicle_make vehicle_model  vehicle_year  \\\n0     student   True          car         audi         rs q4        2020.0   \n1     teacher   True          car        dacia         logan        2021.0   \n2     student   True   motorcycle   cappuccino          50cc        2019.0   \n3         CEO    NaN          car          NaN           NaN           NaN   \n4  taxi owner    NaN          car        dacia         logan           NaN   \n5         CEO    NaN        truck          NaN           NaN           NaN   \n6         CEO    NaN          bus          NaN           NaN           NaN   \n7     employe   True          car         fiat           500        2021.0   \n8     employe  False          car        tesla             s        2022.0   \n9   architect   True          car       toyota           chr        2021.0   \n\n   number_seats                   business_field  number_insured_vehicles  \\\n0             5                              NaN                      NaN   \n1             5                              NaN                      NaN   \n2             2                              NaN                      NaN   \n3             5                      IT services                     20.0   \n4             3  Transport publique de voyageurs                      1.0   \n5             2         Transport de marchandise                      5.0   \n6            20  Transport publique de voyageurs                     10.0   \n7             5                              NaN                      NaN   \n8             5                              NaN                      NaN   \n9             5                              NaN                      NaN   \n\n  business_size                 timestamp  \n0           NaN  2024-01-16T23:39:56.689Z  \n1           NaN  2024-01-16T23:41:29.796Z  \n2           NaN  2024-01-16T23:42:28.869Z  \n3            GE  2024-01-17T00:17:03.091Z  \n4           NaN  2024-01-17T00:28:30.752Z  \n5           TPE  2024-01-17T00:34:52.576Z  \n6           ETI  2024-01-17T00:43:39.183Z  \n7           NaN  2024-01-17T00:49:01.008Z  \n8           NaN  2024-01-17T00:51:13.056Z  \n9           NaN  2024-01-17T00:53:01.050Z  ",
      "text/html": "<div>\n<style scoped>\n    .dataframe tbody tr th:only-of-type {\n        vertical-align: middle;\n    }\n\n    .dataframe tbody tr th {\n        vertical-align: top;\n    }\n\n    .dataframe thead th {\n        text-align: right;\n    }\n</style>\n<table border=\"1\" class=\"dataframe\">\n  <thead>\n    <tr style=\"text-align: right;\">\n      <th></th>\n      <th>_id</th>\n      <th>fullname</th>\n      <th>age</th>\n      <th>parent</th>\n      <th>occupation</th>\n      <th>www</th>\n      <th>vehicle_type</th>\n      <th>vehicle_make</th>\n      <th>vehicle_model</th>\n      <th>vehicle_year</th>\n      <th>number_seats</th>\n      <th>business_field</th>\n      <th>number_insured_vehicles</th>\n      <th>business_size</th>\n      <th>timestamp</th>\n    </tr>\n  </thead>\n  <tbody>\n    <tr>\n      <th>0</th>\n      <td>65a713cc1dfebcf6ca173f0d</td>\n      <td>Aya Hamza</td>\n      <td>20</td>\n      <td>False</td>\n      <td>student</td>\n      <td>True</td>\n      <td>car</td>\n      <td>audi</td>\n      <td>rs q4</td>\n      <td>2020.0</td>\n      <td>5</td>\n      <td>NaN</td>\n      <td>NaN</td>\n      <td>NaN</td>\n      <td>2024-01-16T23:39:56.689Z</td>\n    </tr>\n    <tr>\n      <th>1</th>\n      <td>65a714291dfebcf6ca173f0e</td>\n      <td>Hicham Hamza</td>\n      <td>56</td>\n      <td>True</td>\n      <td>teacher</td>\n      <td>True</td>\n      <td>car</td>\n      <td>dacia</td>\n      <td>logan</td>\n      <td>2021.0</td>\n      <td>5</td>\n      <td>NaN</td>\n      <td>NaN</td>\n      <td>NaN</td>\n      <td>2024-01-16T23:41:29.796Z</td>\n    </tr>\n    <tr>\n      <th>2</th>\n      <td>65a714641dfebcf6ca173f0f</td>\n      <td>Kamilia Hamza</td>\n      <td>19</td>\n      <td>False</td>\n      <td>student</td>\n      <td>True</td>\n      <td>motorcycle</td>\n      <td>cappuccino</td>\n      <td>50cc</td>\n      <td>2019.0</td>\n      <td>2</td>\n      <td>NaN</td>\n      <td>NaN</td>\n      <td>NaN</td>\n      <td>2024-01-16T23:42:28.869Z</td>\n    </tr>\n    <tr>\n      <th>3</th>\n      <td>65a71c7f1dfebcf6ca173f11</td>\n      <td>Mohammed El Bakkali El Ammari</td>\n      <td>25</td>\n      <td>NaN</td>\n      <td>CEO</td>\n      <td>NaN</td>\n      <td>car</td>\n      <td>NaN</td>\n      <td>NaN</td>\n      <td>NaN</td>\n      <td>5</td>\n      <td>IT services</td>\n      <td>20.0</td>\n      <td>GE</td>\n      <td>2024-01-17T00:17:03.091Z</td>\n    </tr>\n    <tr>\n      <th>4</th>\n      <td>65a71f2e1dfebcf6ca173f12</td>\n      <td>Mokhtar Hamza</td>\n      <td>60</td>\n      <td>NaN</td>\n      <td>taxi owner</td>\n      <td>NaN</td>\n      <td>car</td>\n      <td>dacia</td>\n      <td>logan</td>\n      <td>NaN</td>\n      <td>3</td>\n      <td>Transport publique de voyageurs</td>\n      <td>1.0</td>\n      <td>NaN</td>\n      <td>2024-01-17T00:28:30.752Z</td>\n    </tr>\n    <tr>\n      <th>5</th>\n      <td>65a720ac1dfebcf6ca173f13</td>\n      <td>Said Benjelloun</td>\n      <td>40</td>\n      <td>NaN</td>\n      <td>CEO</td>\n      <td>NaN</td>\n      <td>truck</td>\n      <td>NaN</td>\n      <td>NaN</td>\n      <td>NaN</td>\n      <td>2</td>\n      <td>Transport de marchandise</td>\n      <td>5.0</td>\n      <td>TPE</td>\n      <td>2024-01-17T00:34:52.576Z</td>\n    </tr>\n    <tr>\n      <th>6</th>\n      <td>65a722bb1dfebcf6ca173f14</td>\n      <td>anas znagi</td>\n      <td>37</td>\n      <td>NaN</td>\n      <td>CEO</td>\n      <td>NaN</td>\n      <td>bus</td>\n      <td>NaN</td>\n      <td>NaN</td>\n      <td>NaN</td>\n      <td>20</td>\n      <td>Transport publique de voyageurs</td>\n      <td>10.0</td>\n      <td>ETI</td>\n      <td>2024-01-17T00:43:39.183Z</td>\n    </tr>\n    <tr>\n      <th>7</th>\n      <td>65a723fd1dfebcf6ca173f15</td>\n      <td>Laila Sabri</td>\n      <td>49</td>\n      <td>True</td>\n      <td>employe</td>\n      <td>True</td>\n      <td>car</td>\n      <td>fiat</td>\n      <td>500</td>\n      <td>2021.0</td>\n      <td>5</td>\n      <td>NaN</td>\n      <td>NaN</td>\n      <td>NaN</td>\n      <td>2024-01-17T00:49:01.008Z</td>\n    </tr>\n    <tr>\n      <th>8</th>\n      <td>65a724811dfebcf6ca173f16</td>\n      <td>Aya Kammah</td>\n      <td>23</td>\n      <td>False</td>\n      <td>employe</td>\n      <td>False</td>\n      <td>car</td>\n      <td>tesla</td>\n      <td>s</td>\n      <td>2022.0</td>\n      <td>5</td>\n      <td>NaN</td>\n      <td>NaN</td>\n      <td>NaN</td>\n      <td>2024-01-17T00:51:13.056Z</td>\n    </tr>\n    <tr>\n      <th>9</th>\n      <td>65a724ed1dfebcf6ca173f17</td>\n      <td>Ihsan El bakkali EL ammari</td>\n      <td>30</td>\n      <td>True</td>\n      <td>architect</td>\n      <td>True</td>\n      <td>car</td>\n      <td>toyota</td>\n      <td>chr</td>\n      <td>2021.0</td>\n      <td>5</td>\n      <td>NaN</td>\n      <td>NaN</td>\n      <td>NaN</td>\n      <td>2024-01-17T00:53:01.050Z</td>\n    </tr>\n  </tbody>\n</table>\n</div>"
     },
     "execution_count": 320,
     "metadata": {},
     "output_type": "execute_result"
    }
   ],
   "source": [
    "raw_data_path = '/Users/aya/Desktop/ML/insurance-recommender/data/raw/user_data.csv'\n",
    "\n",
    "raw_data = load_raw_data(raw_data_path)\n",
    "\n",
    "processed_data = raw_data\n",
    "processed_data"
   ],
   "metadata": {
    "collapsed": false,
    "ExecuteTime": {
     "end_time": "2024-01-17T23:02:14.567904Z",
     "start_time": "2024-01-17T23:02:14.543967Z"
    }
   },
   "id": "2040a2533ae480e1",
   "execution_count": 320
  },
  {
   "cell_type": "code",
   "outputs": [
    {
     "data": {
      "text/plain": "                        _id   parent  occupation      www vehicle_type  \\\n0  65a713cc1dfebcf6ca173f0d    False     student     True          car   \n1  65a714291dfebcf6ca173f0e     True     teacher     True          car   \n2  65a714641dfebcf6ca173f0f    False     student     True   motorcycle   \n3  65a71c7f1dfebcf6ca173f11  unknown         CEO  unknown          car   \n4  65a71f2e1dfebcf6ca173f12  unknown  taxi owner  unknown          car   \n5  65a720ac1dfebcf6ca173f13  unknown         CEO  unknown        truck   \n6  65a722bb1dfebcf6ca173f14  unknown         CEO  unknown          bus   \n7  65a723fd1dfebcf6ca173f15     True     employe     True          car   \n8  65a724811dfebcf6ca173f16    False     employe    False          car   \n9  65a724ed1dfebcf6ca173f17     True   architect     True          car   \n\n  vehicle_make vehicle_model  vehicle_year  number_seats  \\\n0         audi         rs q4        2020.0             5   \n1        dacia         logan        2021.0             5   \n2   cappuccino          50cc        2019.0             2   \n3      unknown       unknown           0.0             5   \n4        dacia         logan           0.0             3   \n5      unknown       unknown           0.0             2   \n6      unknown       unknown           0.0            20   \n7         fiat           500        2021.0             5   \n8        tesla             s        2022.0             5   \n9       toyota           chr        2021.0             5   \n\n                    business_field  number_insured_vehicles business_size  \\\n0                          unknown                      0.0       unknown   \n1                          unknown                      0.0       unknown   \n2                          unknown                      0.0       unknown   \n3                      IT services                     20.0            GE   \n4  Transport publique de voyageurs                      1.0       unknown   \n5         Transport de marchandise                      5.0           TPE   \n6  Transport publique de voyageurs                     10.0           ETI   \n7                          unknown                      0.0       unknown   \n8                          unknown                      0.0       unknown   \n9                          unknown                      0.0       unknown   \n\n  age_group  \n0     19-35  \n1     36-60  \n2     19-35  \n3     19-35  \n4     36-60  \n5     36-60  \n6     36-60  \n7     36-60  \n8     19-35  \n9     19-35  ",
      "text/html": "<div>\n<style scoped>\n    .dataframe tbody tr th:only-of-type {\n        vertical-align: middle;\n    }\n\n    .dataframe tbody tr th {\n        vertical-align: top;\n    }\n\n    .dataframe thead th {\n        text-align: right;\n    }\n</style>\n<table border=\"1\" class=\"dataframe\">\n  <thead>\n    <tr style=\"text-align: right;\">\n      <th></th>\n      <th>_id</th>\n      <th>parent</th>\n      <th>occupation</th>\n      <th>www</th>\n      <th>vehicle_type</th>\n      <th>vehicle_make</th>\n      <th>vehicle_model</th>\n      <th>vehicle_year</th>\n      <th>number_seats</th>\n      <th>business_field</th>\n      <th>number_insured_vehicles</th>\n      <th>business_size</th>\n      <th>age_group</th>\n    </tr>\n  </thead>\n  <tbody>\n    <tr>\n      <th>0</th>\n      <td>65a713cc1dfebcf6ca173f0d</td>\n      <td>False</td>\n      <td>student</td>\n      <td>True</td>\n      <td>car</td>\n      <td>audi</td>\n      <td>rs q4</td>\n      <td>2020.0</td>\n      <td>5</td>\n      <td>unknown</td>\n      <td>0.0</td>\n      <td>unknown</td>\n      <td>19-35</td>\n    </tr>\n    <tr>\n      <th>1</th>\n      <td>65a714291dfebcf6ca173f0e</td>\n      <td>True</td>\n      <td>teacher</td>\n      <td>True</td>\n      <td>car</td>\n      <td>dacia</td>\n      <td>logan</td>\n      <td>2021.0</td>\n      <td>5</td>\n      <td>unknown</td>\n      <td>0.0</td>\n      <td>unknown</td>\n      <td>36-60</td>\n    </tr>\n    <tr>\n      <th>2</th>\n      <td>65a714641dfebcf6ca173f0f</td>\n      <td>False</td>\n      <td>student</td>\n      <td>True</td>\n      <td>motorcycle</td>\n      <td>cappuccino</td>\n      <td>50cc</td>\n      <td>2019.0</td>\n      <td>2</td>\n      <td>unknown</td>\n      <td>0.0</td>\n      <td>unknown</td>\n      <td>19-35</td>\n    </tr>\n    <tr>\n      <th>3</th>\n      <td>65a71c7f1dfebcf6ca173f11</td>\n      <td>unknown</td>\n      <td>CEO</td>\n      <td>unknown</td>\n      <td>car</td>\n      <td>unknown</td>\n      <td>unknown</td>\n      <td>0.0</td>\n      <td>5</td>\n      <td>IT services</td>\n      <td>20.0</td>\n      <td>GE</td>\n      <td>19-35</td>\n    </tr>\n    <tr>\n      <th>4</th>\n      <td>65a71f2e1dfebcf6ca173f12</td>\n      <td>unknown</td>\n      <td>taxi owner</td>\n      <td>unknown</td>\n      <td>car</td>\n      <td>dacia</td>\n      <td>logan</td>\n      <td>0.0</td>\n      <td>3</td>\n      <td>Transport publique de voyageurs</td>\n      <td>1.0</td>\n      <td>unknown</td>\n      <td>36-60</td>\n    </tr>\n    <tr>\n      <th>5</th>\n      <td>65a720ac1dfebcf6ca173f13</td>\n      <td>unknown</td>\n      <td>CEO</td>\n      <td>unknown</td>\n      <td>truck</td>\n      <td>unknown</td>\n      <td>unknown</td>\n      <td>0.0</td>\n      <td>2</td>\n      <td>Transport de marchandise</td>\n      <td>5.0</td>\n      <td>TPE</td>\n      <td>36-60</td>\n    </tr>\n    <tr>\n      <th>6</th>\n      <td>65a722bb1dfebcf6ca173f14</td>\n      <td>unknown</td>\n      <td>CEO</td>\n      <td>unknown</td>\n      <td>bus</td>\n      <td>unknown</td>\n      <td>unknown</td>\n      <td>0.0</td>\n      <td>20</td>\n      <td>Transport publique de voyageurs</td>\n      <td>10.0</td>\n      <td>ETI</td>\n      <td>36-60</td>\n    </tr>\n    <tr>\n      <th>7</th>\n      <td>65a723fd1dfebcf6ca173f15</td>\n      <td>True</td>\n      <td>employe</td>\n      <td>True</td>\n      <td>car</td>\n      <td>fiat</td>\n      <td>500</td>\n      <td>2021.0</td>\n      <td>5</td>\n      <td>unknown</td>\n      <td>0.0</td>\n      <td>unknown</td>\n      <td>36-60</td>\n    </tr>\n    <tr>\n      <th>8</th>\n      <td>65a724811dfebcf6ca173f16</td>\n      <td>False</td>\n      <td>employe</td>\n      <td>False</td>\n      <td>car</td>\n      <td>tesla</td>\n      <td>s</td>\n      <td>2022.0</td>\n      <td>5</td>\n      <td>unknown</td>\n      <td>0.0</td>\n      <td>unknown</td>\n      <td>19-35</td>\n    </tr>\n    <tr>\n      <th>9</th>\n      <td>65a724ed1dfebcf6ca173f17</td>\n      <td>True</td>\n      <td>architect</td>\n      <td>True</td>\n      <td>car</td>\n      <td>toyota</td>\n      <td>chr</td>\n      <td>2021.0</td>\n      <td>5</td>\n      <td>unknown</td>\n      <td>0.0</td>\n      <td>unknown</td>\n      <td>19-35</td>\n    </tr>\n  </tbody>\n</table>\n</div>"
     },
     "execution_count": 321,
     "metadata": {},
     "output_type": "execute_result"
    }
   ],
   "source": [
    "processed_data[\"vehicle_year\"].fillna(value=0, inplace=True)\n",
    "processed_data[\"number_insured_vehicles\"].fillna(value=0, inplace=True)\n",
    "processed_data.fillna(value='unknown', inplace=True)\n",
    "\n",
    "# dropping this col because we do not need it at this stage of code\n",
    "processed_data = processed_data.drop(['timestamp'], axis=1)\n",
    "\n",
    "processed_data['age_group'] = pd.cut(processed_data['age'], bins=[0, 18, 35, 60, float('inf')],\n",
    "                                         labels=['0-18', '19-35', '36-60', '60+'])\n",
    "\n",
    "processed_data = processed_data.drop(['age','fullname'], axis=1)\n",
    "\n",
    "processed_data"
   ],
   "metadata": {
    "collapsed": false,
    "ExecuteTime": {
     "end_time": "2024-01-17T23:02:15.672765Z",
     "start_time": "2024-01-17T23:02:15.638907Z"
    }
   },
   "id": "8e786a957fdba081",
   "execution_count": 321
  },
  {
   "cell_type": "code",
   "outputs": [
    {
     "data": {
      "text/plain": "                        _id   parent  occupation      www vehicle_type  \\\n0  65a713cc1dfebcf6ca173f0d    False     student     True          car   \n1  65a714291dfebcf6ca173f0e     True     teacher     True          car   \n2  65a714641dfebcf6ca173f0f    False     student     True   motorcycle   \n3  65a71c7f1dfebcf6ca173f11  unknown         CEO  unknown          car   \n4  65a71f2e1dfebcf6ca173f12  unknown  taxi owner  unknown          car   \n5  65a720ac1dfebcf6ca173f13  unknown         CEO  unknown        truck   \n6  65a722bb1dfebcf6ca173f14  unknown         CEO  unknown          bus   \n7  65a723fd1dfebcf6ca173f15     True     employe     True          car   \n8  65a724811dfebcf6ca173f16    False     employe    False          car   \n9  65a724ed1dfebcf6ca173f17     True   architect     True          car   \n\n   number_seats                   business_field  number_insured_vehicles  \\\n0             5                          unknown                      0.0   \n1             5                          unknown                      0.0   \n2             2                          unknown                      0.0   \n3             5                      IT services                     20.0   \n4             3  Transport publique de voyageurs                      1.0   \n5             2         Transport de marchandise                      5.0   \n6            20  Transport publique de voyageurs                     10.0   \n7             5                          unknown                      0.0   \n8             5                          unknown                      0.0   \n9             5                          unknown                      0.0   \n\n  business_size age_group vehicle_range vehicle_category vehicle_state  \n0       unknown     19-35      Midrange           Diesel        Recent  \n1       unknown     36-60      Economic           Diesel        Recent  \n2       unknown     19-35      Economic           Diesel       Vetuste  \n3            GE     19-35       unknown          unknown           NaN  \n4       unknown     36-60      Economic           Diesel           NaN  \n5           TPE     36-60       unknown          unknown           NaN  \n6           ETI     36-60       unknown          unknown           NaN  \n7       unknown     36-60      Economic           Diesel        Recent  \n8       unknown     19-35        Luxury         Electric        Recent  \n9       unknown     19-35      Economic           Hybrid        Recent  ",
      "text/html": "<div>\n<style scoped>\n    .dataframe tbody tr th:only-of-type {\n        vertical-align: middle;\n    }\n\n    .dataframe tbody tr th {\n        vertical-align: top;\n    }\n\n    .dataframe thead th {\n        text-align: right;\n    }\n</style>\n<table border=\"1\" class=\"dataframe\">\n  <thead>\n    <tr style=\"text-align: right;\">\n      <th></th>\n      <th>_id</th>\n      <th>parent</th>\n      <th>occupation</th>\n      <th>www</th>\n      <th>vehicle_type</th>\n      <th>number_seats</th>\n      <th>business_field</th>\n      <th>number_insured_vehicles</th>\n      <th>business_size</th>\n      <th>age_group</th>\n      <th>vehicle_range</th>\n      <th>vehicle_category</th>\n      <th>vehicle_state</th>\n    </tr>\n  </thead>\n  <tbody>\n    <tr>\n      <th>0</th>\n      <td>65a713cc1dfebcf6ca173f0d</td>\n      <td>False</td>\n      <td>student</td>\n      <td>True</td>\n      <td>car</td>\n      <td>5</td>\n      <td>unknown</td>\n      <td>0.0</td>\n      <td>unknown</td>\n      <td>19-35</td>\n      <td>Midrange</td>\n      <td>Diesel</td>\n      <td>Recent</td>\n    </tr>\n    <tr>\n      <th>1</th>\n      <td>65a714291dfebcf6ca173f0e</td>\n      <td>True</td>\n      <td>teacher</td>\n      <td>True</td>\n      <td>car</td>\n      <td>5</td>\n      <td>unknown</td>\n      <td>0.0</td>\n      <td>unknown</td>\n      <td>36-60</td>\n      <td>Economic</td>\n      <td>Diesel</td>\n      <td>Recent</td>\n    </tr>\n    <tr>\n      <th>2</th>\n      <td>65a714641dfebcf6ca173f0f</td>\n      <td>False</td>\n      <td>student</td>\n      <td>True</td>\n      <td>motorcycle</td>\n      <td>2</td>\n      <td>unknown</td>\n      <td>0.0</td>\n      <td>unknown</td>\n      <td>19-35</td>\n      <td>Economic</td>\n      <td>Diesel</td>\n      <td>Vetuste</td>\n    </tr>\n    <tr>\n      <th>3</th>\n      <td>65a71c7f1dfebcf6ca173f11</td>\n      <td>unknown</td>\n      <td>CEO</td>\n      <td>unknown</td>\n      <td>car</td>\n      <td>5</td>\n      <td>IT services</td>\n      <td>20.0</td>\n      <td>GE</td>\n      <td>19-35</td>\n      <td>unknown</td>\n      <td>unknown</td>\n      <td>NaN</td>\n    </tr>\n    <tr>\n      <th>4</th>\n      <td>65a71f2e1dfebcf6ca173f12</td>\n      <td>unknown</td>\n      <td>taxi owner</td>\n      <td>unknown</td>\n      <td>car</td>\n      <td>3</td>\n      <td>Transport publique de voyageurs</td>\n      <td>1.0</td>\n      <td>unknown</td>\n      <td>36-60</td>\n      <td>Economic</td>\n      <td>Diesel</td>\n      <td>NaN</td>\n    </tr>\n    <tr>\n      <th>5</th>\n      <td>65a720ac1dfebcf6ca173f13</td>\n      <td>unknown</td>\n      <td>CEO</td>\n      <td>unknown</td>\n      <td>truck</td>\n      <td>2</td>\n      <td>Transport de marchandise</td>\n      <td>5.0</td>\n      <td>TPE</td>\n      <td>36-60</td>\n      <td>unknown</td>\n      <td>unknown</td>\n      <td>NaN</td>\n    </tr>\n    <tr>\n      <th>6</th>\n      <td>65a722bb1dfebcf6ca173f14</td>\n      <td>unknown</td>\n      <td>CEO</td>\n      <td>unknown</td>\n      <td>bus</td>\n      <td>20</td>\n      <td>Transport publique de voyageurs</td>\n      <td>10.0</td>\n      <td>ETI</td>\n      <td>36-60</td>\n      <td>unknown</td>\n      <td>unknown</td>\n      <td>NaN</td>\n    </tr>\n    <tr>\n      <th>7</th>\n      <td>65a723fd1dfebcf6ca173f15</td>\n      <td>True</td>\n      <td>employe</td>\n      <td>True</td>\n      <td>car</td>\n      <td>5</td>\n      <td>unknown</td>\n      <td>0.0</td>\n      <td>unknown</td>\n      <td>36-60</td>\n      <td>Economic</td>\n      <td>Diesel</td>\n      <td>Recent</td>\n    </tr>\n    <tr>\n      <th>8</th>\n      <td>65a724811dfebcf6ca173f16</td>\n      <td>False</td>\n      <td>employe</td>\n      <td>False</td>\n      <td>car</td>\n      <td>5</td>\n      <td>unknown</td>\n      <td>0.0</td>\n      <td>unknown</td>\n      <td>19-35</td>\n      <td>Luxury</td>\n      <td>Electric</td>\n      <td>Recent</td>\n    </tr>\n    <tr>\n      <th>9</th>\n      <td>65a724ed1dfebcf6ca173f17</td>\n      <td>True</td>\n      <td>architect</td>\n      <td>True</td>\n      <td>car</td>\n      <td>5</td>\n      <td>unknown</td>\n      <td>0.0</td>\n      <td>unknown</td>\n      <td>19-35</td>\n      <td>Economic</td>\n      <td>Hybrid</td>\n      <td>Recent</td>\n    </tr>\n  </tbody>\n</table>\n</div>"
     },
     "execution_count": 322,
     "metadata": {},
     "output_type": "execute_result"
    }
   ],
   "source": [
    "# range\n",
    "economic_cars = ['dacia', 'renault', 'fiat', 'peugeot', 'ford', 'honda', 'hyundai', 'kia', 'nissan', 'subaru', 'toyota', 'volkswagen','cappuccino']\n",
    "midrange_cars = ['audi', 'bmw', 'mazda', 'mercedes', 'volvo','Nissan']\n",
    "luxury_cars = ['aston martin', 'bentley', 'ferrari', 'lamborghini', 'porsche', 'rolls-royce','tesla']\n",
    "\n",
    "# category\n",
    "hybrid_cars =['Prius', 'Insight','Fusion Hybrid', 'Volt','RX Hybrid','Camry Hybrid','Ioniq Hybrid','Niro','i3','3','chr']\n",
    "electric_cars =['s', 'X', 'Y', 'Spark EV', 'i4', 'Kona Electric', 'Soul EV', 'e-tron']\n",
    "diesel_cars =['500', 'logan', 'rs q4', 'Spark EV', 'i4', 'Kona Electric', 'Soul EV', 'e-tron','50cc']\n",
    "\n",
    "# state\n",
    "vehicle_state=['vetuste','recent']\n",
    "\n",
    "processed_data.loc[processed_data['vehicle_make'].isin(economic_cars), 'vehicle_range'] = 'Economic'\n",
    "processed_data.loc[processed_data['vehicle_make'].isin(midrange_cars), 'vehicle_range'] = 'Midrange'\n",
    "processed_data.loc[processed_data['vehicle_make'].isin(luxury_cars), 'vehicle_range'] = 'Luxury'\n",
    "processed_data.loc[processed_data['vehicle_make'].isin(['unknown']), 'vehicle_range'] = 'unknown'\n",
    "\n",
    "processed_data.loc[processed_data['vehicle_model'].isin(hybrid_cars), 'vehicle_category'] = 'Hybrid'\n",
    "processed_data.loc[processed_data['vehicle_model'].isin(electric_cars), 'vehicle_category'] = 'Electric'\n",
    "processed_data.loc[processed_data['vehicle_model'].isin(diesel_cars), 'vehicle_category'] = 'Diesel'\n",
    "processed_data.loc[processed_data['vehicle_model'].isin(['unknown']), 'vehicle_category'] = 'unknown'\n",
    "\n",
    "\n",
    "processed_data['vehicle_state'] = pd.cut(\n",
    "    processed_data['vehicle_year'],\n",
    "    bins=[1886, 2019, float('inf')],\n",
    "    labels=['Vetuste', 'Recent']\n",
    ")\n",
    "\n",
    "processed_data = processed_data.drop(['vehicle_make','vehicle_model','vehicle_year'], axis=1)\n",
    "\n",
    "processed_data"
   ],
   "metadata": {
    "collapsed": false,
    "ExecuteTime": {
     "end_time": "2024-01-17T23:02:16.745814Z",
     "start_time": "2024-01-17T23:02:16.738923Z"
    }
   },
   "id": "24e752dfa31334a8",
   "execution_count": 322
  },
  {
   "cell_type": "code",
   "outputs": [
    {
     "data": {
      "text/plain": "                        _id  parent  occupation  www  vehicle_type  \\\n0  65a713cc1dfebcf6ca173f0d       0           3    1             2   \n1  65a714291dfebcf6ca173f0e       1           5    1             2   \n2  65a714641dfebcf6ca173f0f       0           3    1             1   \n3  65a71c7f1dfebcf6ca173f11       2           0    2             2   \n4  65a71f2e1dfebcf6ca173f12       2           4    2             2   \n5  65a720ac1dfebcf6ca173f13       2           0    2             3   \n6  65a722bb1dfebcf6ca173f14       2           0    2             4   \n7  65a723fd1dfebcf6ca173f15       1           2    1             2   \n8  65a724811dfebcf6ca173f16       0           2    0             2   \n9  65a724ed1dfebcf6ca173f17       1           1    1             2   \n\n   number_seats  business_field  number_insured_vehicles  business_size  \\\n0             5               3                      0.0              0   \n1             5               3                      0.0              0   \n2             2               3                      0.0              0   \n3             5               0                     20.0              3   \n4             3               2                      1.0              0   \n5             2               1                      5.0              1   \n6            20               2                     10.0              2   \n7             5               3                      0.0              0   \n8             5               3                      0.0              0   \n9             5               3                      0.0              0   \n\n  age_group  vehicle_range  vehicle_category  vehicle_state  \n0         2              2                 1              2  \n1         3              1                 1              2  \n2         2              1                 1              1  \n3         2              0                 0              0  \n4         3              1                 1              0  \n5         3              0                 0              0  \n6         3              0                 0              0  \n7         3              1                 1              2  \n8         2              3                 2              2  \n9         2              1                 3              2  ",
      "text/html": "<div>\n<style scoped>\n    .dataframe tbody tr th:only-of-type {\n        vertical-align: middle;\n    }\n\n    .dataframe tbody tr th {\n        vertical-align: top;\n    }\n\n    .dataframe thead th {\n        text-align: right;\n    }\n</style>\n<table border=\"1\" class=\"dataframe\">\n  <thead>\n    <tr style=\"text-align: right;\">\n      <th></th>\n      <th>_id</th>\n      <th>parent</th>\n      <th>occupation</th>\n      <th>www</th>\n      <th>vehicle_type</th>\n      <th>number_seats</th>\n      <th>business_field</th>\n      <th>number_insured_vehicles</th>\n      <th>business_size</th>\n      <th>age_group</th>\n      <th>vehicle_range</th>\n      <th>vehicle_category</th>\n      <th>vehicle_state</th>\n    </tr>\n  </thead>\n  <tbody>\n    <tr>\n      <th>0</th>\n      <td>65a713cc1dfebcf6ca173f0d</td>\n      <td>0</td>\n      <td>3</td>\n      <td>1</td>\n      <td>2</td>\n      <td>5</td>\n      <td>3</td>\n      <td>0.0</td>\n      <td>0</td>\n      <td>2</td>\n      <td>2</td>\n      <td>1</td>\n      <td>2</td>\n    </tr>\n    <tr>\n      <th>1</th>\n      <td>65a714291dfebcf6ca173f0e</td>\n      <td>1</td>\n      <td>5</td>\n      <td>1</td>\n      <td>2</td>\n      <td>5</td>\n      <td>3</td>\n      <td>0.0</td>\n      <td>0</td>\n      <td>3</td>\n      <td>1</td>\n      <td>1</td>\n      <td>2</td>\n    </tr>\n    <tr>\n      <th>2</th>\n      <td>65a714641dfebcf6ca173f0f</td>\n      <td>0</td>\n      <td>3</td>\n      <td>1</td>\n      <td>1</td>\n      <td>2</td>\n      <td>3</td>\n      <td>0.0</td>\n      <td>0</td>\n      <td>2</td>\n      <td>1</td>\n      <td>1</td>\n      <td>1</td>\n    </tr>\n    <tr>\n      <th>3</th>\n      <td>65a71c7f1dfebcf6ca173f11</td>\n      <td>2</td>\n      <td>0</td>\n      <td>2</td>\n      <td>2</td>\n      <td>5</td>\n      <td>0</td>\n      <td>20.0</td>\n      <td>3</td>\n      <td>2</td>\n      <td>0</td>\n      <td>0</td>\n      <td>0</td>\n    </tr>\n    <tr>\n      <th>4</th>\n      <td>65a71f2e1dfebcf6ca173f12</td>\n      <td>2</td>\n      <td>4</td>\n      <td>2</td>\n      <td>2</td>\n      <td>3</td>\n      <td>2</td>\n      <td>1.0</td>\n      <td>0</td>\n      <td>3</td>\n      <td>1</td>\n      <td>1</td>\n      <td>0</td>\n    </tr>\n    <tr>\n      <th>5</th>\n      <td>65a720ac1dfebcf6ca173f13</td>\n      <td>2</td>\n      <td>0</td>\n      <td>2</td>\n      <td>3</td>\n      <td>2</td>\n      <td>1</td>\n      <td>5.0</td>\n      <td>1</td>\n      <td>3</td>\n      <td>0</td>\n      <td>0</td>\n      <td>0</td>\n    </tr>\n    <tr>\n      <th>6</th>\n      <td>65a722bb1dfebcf6ca173f14</td>\n      <td>2</td>\n      <td>0</td>\n      <td>2</td>\n      <td>4</td>\n      <td>20</td>\n      <td>2</td>\n      <td>10.0</td>\n      <td>2</td>\n      <td>3</td>\n      <td>0</td>\n      <td>0</td>\n      <td>0</td>\n    </tr>\n    <tr>\n      <th>7</th>\n      <td>65a723fd1dfebcf6ca173f15</td>\n      <td>1</td>\n      <td>2</td>\n      <td>1</td>\n      <td>2</td>\n      <td>5</td>\n      <td>3</td>\n      <td>0.0</td>\n      <td>0</td>\n      <td>3</td>\n      <td>1</td>\n      <td>1</td>\n      <td>2</td>\n    </tr>\n    <tr>\n      <th>8</th>\n      <td>65a724811dfebcf6ca173f16</td>\n      <td>0</td>\n      <td>2</td>\n      <td>0</td>\n      <td>2</td>\n      <td>5</td>\n      <td>3</td>\n      <td>0.0</td>\n      <td>0</td>\n      <td>2</td>\n      <td>3</td>\n      <td>2</td>\n      <td>2</td>\n    </tr>\n    <tr>\n      <th>9</th>\n      <td>65a724ed1dfebcf6ca173f17</td>\n      <td>1</td>\n      <td>1</td>\n      <td>1</td>\n      <td>2</td>\n      <td>5</td>\n      <td>3</td>\n      <td>0.0</td>\n      <td>0</td>\n      <td>2</td>\n      <td>1</td>\n      <td>3</td>\n      <td>2</td>\n    </tr>\n  </tbody>\n</table>\n</div>"
     },
     "execution_count": 323,
     "metadata": {},
     "output_type": "execute_result"
    }
   ],
   "source": [
    "from sklearn import preprocessing\n",
    "label_encoder = preprocessing.LabelEncoder()\n",
    "\n",
    "processed_data['age_group']= processed_data['age_group'].map({'0-18':1, '19-35':2, '36-60':3, '60+':4, 'unknown':0})\n",
    "processed_data['occupation']= label_encoder.fit_transform(processed_data['occupation'])\n",
    "processed_data['occupation'].unique()\n",
    "processed_data['parent']= processed_data['parent'].map({True:1, False:0, 'unknown':2})\n",
    "\n",
    "processed_data['www']= processed_data['www'].map({True:1, False:0, 'unknown':2})\n",
    "processed_data['vehicle_type']= processed_data['vehicle_type'].map({'motorcycle':1, 'car':2,'truck':3, 'bus':4, 'boat':5, 'unknown':0})\n",
    "processed_data['vehicle_range']= processed_data['vehicle_range'].map({'Economic':1, 'Midrange':2,'Luxury':3, 'unknown':0})\n",
    "processed_data['vehicle_category']= processed_data['vehicle_category'].map({'Diesel':1, 'Electric':2,'Hybrid':3, 'unknown':0})\n",
    "processed_data['vehicle_state']= processed_data['vehicle_state'].map({'Vetuste':1, 'Recent':2, np.NAN:0})\n",
    "\n",
    "processed_data['business_size']= processed_data['business_size'].map({'TPE':1, 'ETI':2, 'GE':3, 'unknown':0})\n",
    "processed_data['business_field']= label_encoder.fit_transform(processed_data['business_field'])\n",
    "processed_data['business_field'].unique()\n",
    "\n",
    "processed_data"
   ],
   "metadata": {
    "collapsed": false,
    "ExecuteTime": {
     "end_time": "2024-01-17T23:02:18.081582Z",
     "start_time": "2024-01-17T23:02:18.073169Z"
    }
   },
   "id": "7bf99c8beba3f61d",
   "execution_count": 323
  },
  {
   "cell_type": "code",
   "outputs": [
    {
     "data": {
      "text/plain": "                        _id    parent    occupation       www  vehicle_type  \\\n0  65a713cc1dfebcf6ca173f0d -1.324244  5.976143e-01 -0.468521     -0.267261   \n1  65a714291dfebcf6ca173f0e -0.120386  1.792843e+00 -0.468521     -0.267261   \n2  65a714641dfebcf6ca173f0f -1.324244  5.976143e-01 -0.468521     -1.603567   \n3  65a71c7f1dfebcf6ca173f11  1.083473 -1.195229e+00  1.093216     -0.267261   \n4  65a71f2e1dfebcf6ca173f12  1.083473  1.195229e+00  1.093216     -0.267261   \n5  65a720ac1dfebcf6ca173f13  1.083473 -1.195229e+00  1.093216      1.069045   \n6  65a722bb1dfebcf6ca173f14  1.083473 -1.195229e+00  1.093216      2.405351   \n7  65a723fd1dfebcf6ca173f15 -0.120386  2.220446e-17 -0.468521     -0.267261   \n8  65a724811dfebcf6ca173f16 -1.324244  2.220446e-17 -2.030259     -0.267261   \n9  65a724ed1dfebcf6ca173f17 -0.120386 -5.976143e-01 -0.468521     -0.267261   \n\n   number_seats  business_field  number_insured_vehicles  business_size  \\\n0     -0.142266        0.696526                -0.571789      -0.588348   \n1     -0.142266        0.696526                -0.571789      -0.588348   \n2     -0.751977        0.696526                -0.571789      -0.588348   \n3     -0.142266       -2.288586                 2.604816       2.353394   \n4     -0.548740       -0.298511                -0.412959      -0.588348   \n5     -0.751977       -1.293548                 0.222362       0.392232   \n6      2.906288       -0.298511                 1.016514       1.372813   \n7     -0.142266        0.696526                -0.571789      -0.588348   \n8     -0.142266        0.696526                -0.571789      -0.588348   \n9     -0.142266        0.696526                -0.571789      -0.588348   \n\n   age_group  vehicle_range  vehicle_category  vehicle_state  \n0       -1.0       1.118034          0.000000       0.953998  \n1        1.0       0.000000          0.000000       0.953998  \n2       -1.0       0.000000          0.000000      -0.106000  \n3       -1.0      -1.118034         -1.118034      -1.165998  \n4        1.0       0.000000          0.000000      -1.165998  \n5        1.0      -1.118034         -1.118034      -1.165998  \n6        1.0      -1.118034         -1.118034      -1.165998  \n7        1.0       0.000000          0.000000       0.953998  \n8       -1.0       2.236068          1.118034       0.953998  \n9       -1.0       0.000000          2.236068       0.953998  ",
      "text/html": "<div>\n<style scoped>\n    .dataframe tbody tr th:only-of-type {\n        vertical-align: middle;\n    }\n\n    .dataframe tbody tr th {\n        vertical-align: top;\n    }\n\n    .dataframe thead th {\n        text-align: right;\n    }\n</style>\n<table border=\"1\" class=\"dataframe\">\n  <thead>\n    <tr style=\"text-align: right;\">\n      <th></th>\n      <th>_id</th>\n      <th>parent</th>\n      <th>occupation</th>\n      <th>www</th>\n      <th>vehicle_type</th>\n      <th>number_seats</th>\n      <th>business_field</th>\n      <th>number_insured_vehicles</th>\n      <th>business_size</th>\n      <th>age_group</th>\n      <th>vehicle_range</th>\n      <th>vehicle_category</th>\n      <th>vehicle_state</th>\n    </tr>\n  </thead>\n  <tbody>\n    <tr>\n      <th>0</th>\n      <td>65a713cc1dfebcf6ca173f0d</td>\n      <td>-1.324244</td>\n      <td>5.976143e-01</td>\n      <td>-0.468521</td>\n      <td>-0.267261</td>\n      <td>-0.142266</td>\n      <td>0.696526</td>\n      <td>-0.571789</td>\n      <td>-0.588348</td>\n      <td>-1.0</td>\n      <td>1.118034</td>\n      <td>0.000000</td>\n      <td>0.953998</td>\n    </tr>\n    <tr>\n      <th>1</th>\n      <td>65a714291dfebcf6ca173f0e</td>\n      <td>-0.120386</td>\n      <td>1.792843e+00</td>\n      <td>-0.468521</td>\n      <td>-0.267261</td>\n      <td>-0.142266</td>\n      <td>0.696526</td>\n      <td>-0.571789</td>\n      <td>-0.588348</td>\n      <td>1.0</td>\n      <td>0.000000</td>\n      <td>0.000000</td>\n      <td>0.953998</td>\n    </tr>\n    <tr>\n      <th>2</th>\n      <td>65a714641dfebcf6ca173f0f</td>\n      <td>-1.324244</td>\n      <td>5.976143e-01</td>\n      <td>-0.468521</td>\n      <td>-1.603567</td>\n      <td>-0.751977</td>\n      <td>0.696526</td>\n      <td>-0.571789</td>\n      <td>-0.588348</td>\n      <td>-1.0</td>\n      <td>0.000000</td>\n      <td>0.000000</td>\n      <td>-0.106000</td>\n    </tr>\n    <tr>\n      <th>3</th>\n      <td>65a71c7f1dfebcf6ca173f11</td>\n      <td>1.083473</td>\n      <td>-1.195229e+00</td>\n      <td>1.093216</td>\n      <td>-0.267261</td>\n      <td>-0.142266</td>\n      <td>-2.288586</td>\n      <td>2.604816</td>\n      <td>2.353394</td>\n      <td>-1.0</td>\n      <td>-1.118034</td>\n      <td>-1.118034</td>\n      <td>-1.165998</td>\n    </tr>\n    <tr>\n      <th>4</th>\n      <td>65a71f2e1dfebcf6ca173f12</td>\n      <td>1.083473</td>\n      <td>1.195229e+00</td>\n      <td>1.093216</td>\n      <td>-0.267261</td>\n      <td>-0.548740</td>\n      <td>-0.298511</td>\n      <td>-0.412959</td>\n      <td>-0.588348</td>\n      <td>1.0</td>\n      <td>0.000000</td>\n      <td>0.000000</td>\n      <td>-1.165998</td>\n    </tr>\n    <tr>\n      <th>5</th>\n      <td>65a720ac1dfebcf6ca173f13</td>\n      <td>1.083473</td>\n      <td>-1.195229e+00</td>\n      <td>1.093216</td>\n      <td>1.069045</td>\n      <td>-0.751977</td>\n      <td>-1.293548</td>\n      <td>0.222362</td>\n      <td>0.392232</td>\n      <td>1.0</td>\n      <td>-1.118034</td>\n      <td>-1.118034</td>\n      <td>-1.165998</td>\n    </tr>\n    <tr>\n      <th>6</th>\n      <td>65a722bb1dfebcf6ca173f14</td>\n      <td>1.083473</td>\n      <td>-1.195229e+00</td>\n      <td>1.093216</td>\n      <td>2.405351</td>\n      <td>2.906288</td>\n      <td>-0.298511</td>\n      <td>1.016514</td>\n      <td>1.372813</td>\n      <td>1.0</td>\n      <td>-1.118034</td>\n      <td>-1.118034</td>\n      <td>-1.165998</td>\n    </tr>\n    <tr>\n      <th>7</th>\n      <td>65a723fd1dfebcf6ca173f15</td>\n      <td>-0.120386</td>\n      <td>2.220446e-17</td>\n      <td>-0.468521</td>\n      <td>-0.267261</td>\n      <td>-0.142266</td>\n      <td>0.696526</td>\n      <td>-0.571789</td>\n      <td>-0.588348</td>\n      <td>1.0</td>\n      <td>0.000000</td>\n      <td>0.000000</td>\n      <td>0.953998</td>\n    </tr>\n    <tr>\n      <th>8</th>\n      <td>65a724811dfebcf6ca173f16</td>\n      <td>-1.324244</td>\n      <td>2.220446e-17</td>\n      <td>-2.030259</td>\n      <td>-0.267261</td>\n      <td>-0.142266</td>\n      <td>0.696526</td>\n      <td>-0.571789</td>\n      <td>-0.588348</td>\n      <td>-1.0</td>\n      <td>2.236068</td>\n      <td>1.118034</td>\n      <td>0.953998</td>\n    </tr>\n    <tr>\n      <th>9</th>\n      <td>65a724ed1dfebcf6ca173f17</td>\n      <td>-0.120386</td>\n      <td>-5.976143e-01</td>\n      <td>-0.468521</td>\n      <td>-0.267261</td>\n      <td>-0.142266</td>\n      <td>0.696526</td>\n      <td>-0.571789</td>\n      <td>-0.588348</td>\n      <td>-1.0</td>\n      <td>0.000000</td>\n      <td>2.236068</td>\n      <td>0.953998</td>\n    </tr>\n  </tbody>\n</table>\n</div>"
     },
     "execution_count": 328,
     "metadata": {},
     "output_type": "execute_result"
    }
   ],
   "source": [
    "from sklearn.preprocessing import StandardScaler\n",
    "\n",
    "numeric_columns = ['parent', 'occupation', 'www', 'vehicle_type', 'number_seats',\n",
    "    'business_field', 'number_insured_vehicles', 'business_size',\n",
    "    'age_group', 'vehicle_range', 'vehicle_category', 'vehicle_state']\n",
    "\n",
    "# Extract numeric data\n",
    "selected_columns = processed_data.iloc[:, 1:13]\n",
    "\n",
    "# Standardize the data\n",
    "scaler = StandardScaler()\n",
    "scaled_data = scaler.fit_transform(selected_columns)\n",
    "\n",
    "processed_data.iloc[:, 1:13] = scaled_data\n",
    "processed_data"
   ],
   "metadata": {
    "collapsed": false,
    "ExecuteTime": {
     "end_time": "2024-01-17T23:08:10.777968Z",
     "start_time": "2024-01-17T23:08:10.767124Z"
    }
   },
   "id": "60cf722b05b8bad0",
   "execution_count": 328
  },
  {
   "cell_type": "code",
   "outputs": [],
   "source": [
    "processed_data.to_csv('/Users/aya/Desktop/ML/insurance-recommender/data/processed/processed_user_data.csv', index=False)"
   ],
   "metadata": {
    "collapsed": false,
    "ExecuteTime": {
     "end_time": "2024-01-17T23:08:28.808202Z",
     "start_time": "2024-01-17T23:08:28.789312Z"
    }
   },
   "id": "b210c36bbbde3cc7",
   "execution_count": 329
  },
  {
   "cell_type": "code",
   "outputs": [],
   "source": [],
   "metadata": {
    "collapsed": false
   },
   "id": "be08090b4439ffe9"
  }
 ],
 "metadata": {
  "kernelspec": {
   "display_name": "Python 3",
   "language": "python",
   "name": "python3"
  },
  "language_info": {
   "codemirror_mode": {
    "name": "ipython",
    "version": 2
   },
   "file_extension": ".py",
   "mimetype": "text/x-python",
   "name": "python",
   "nbconvert_exporter": "python",
   "pygments_lexer": "ipython2",
   "version": "2.7.6"
  }
 },
 "nbformat": 4,
 "nbformat_minor": 5
}
