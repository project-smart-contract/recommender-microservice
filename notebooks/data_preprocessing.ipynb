{
 "cells": [
  {
   "cell_type": "code",
   "execution_count": 62,
   "id": "initial_id",
   "metadata": {
    "collapsed": true,
    "ExecuteTime": {
     "end_time": "2024-01-19T15:52:29.025906Z",
     "start_time": "2024-01-19T15:52:29.023033Z"
    }
   },
   "outputs": [],
   "source": [
    "import numpy as np\n",
    "from src.ml.data.data_loader import load_raw_data\n",
    "import pandas as pd"
   ]
  },
  {
   "cell_type": "code",
   "outputs": [
    {
     "data": {
      "text/plain": "                         _id         fullname   age parent  occupation    www  \\\n0   65a713cc1dfebcf6ca173f0d        Aya Hamza  20.0  False     student   True   \n1   65a714291dfebcf6ca173f0e     Hicham Hamza  56.0   True     teacher   True   \n2   65a714641dfebcf6ca173f0f    Kamilia Hamza  19.0  False     student   True   \n3   65a71f2e1dfebcf6ca173f12    Mokhtar Hamza  60.0    NaN  taxi owner    NaN   \n4   65a723fd1dfebcf6ca173f15      Laila Sabri  49.0   True     employe   True   \n..                       ...              ...   ...    ...         ...    ...   \n88  65aa961b5cb4f5930d2b2580  kamilia cluster  20.0  False     student  False   \n89  65aa96245cb4f5930d2b2581  kamilia cluster  18.0  False     student   True   \n90  65aa96295cb4f5930d2b2582  kamilia cluster  17.0  False     student   True   \n91  65aa96325cb4f5930d2b2583  kamilia cluster  17.0  False     student  False   \n92  65aa96445cb4f5930d2b2584  kamilia cluster  21.0  False     student   True   \n\n   vehicle_type vehicle_make vehicle_model  vehicle_year  number_seats  \\\n0           car         audi         rs q4        2020.0             5   \n1           car        dacia         logan        2021.0             5   \n2    motorcycle   cappuccino          50cc        2019.0             2   \n3           car        dacia         logan           NaN             3   \n4           car         fiat           500        2021.0             5   \n..          ...          ...           ...           ...           ...   \n88   motorcycle   cappuccino          50cc        2019.0             2   \n89   motorcycle   cappuccino          50cc        2019.0             2   \n90   motorcycle   cappuccino          50cc        2019.0             2   \n91   motorcycle   cappuccino          50cc        2019.0             2   \n92   motorcycle   cappuccino          50cc        2019.0             2   \n\n                     business_field  number_insured_vehicles  \\\n0                               NaN                      NaN   \n1                               NaN                      NaN   \n2                               NaN                      NaN   \n3   Transport publique de voyageurs                      1.0   \n4                               NaN                      NaN   \n..                              ...                      ...   \n88                              NaN                      NaN   \n89                              NaN                      NaN   \n90                              NaN                      NaN   \n91                              NaN                      NaN   \n92                              NaN                      NaN   \n\n                   timestamp  \n0   2024-01-16T23:39:56.689Z  \n1   2024-01-16T23:41:29.796Z  \n2   2024-01-16T23:42:28.869Z  \n3   2024-01-17T00:28:30.752Z  \n4   2024-01-17T00:49:01.008Z  \n..                       ...  \n88  2024-01-19T15:32:43.906Z  \n89  2024-01-19T15:32:52.242Z  \n90  2024-01-19T15:32:57.386Z  \n91  2024-01-19T15:33:06.099Z  \n92  2024-01-19T15:33:24.643Z  \n\n[93 rows x 14 columns]",
      "text/html": "<div>\n<style scoped>\n    .dataframe tbody tr th:only-of-type {\n        vertical-align: middle;\n    }\n\n    .dataframe tbody tr th {\n        vertical-align: top;\n    }\n\n    .dataframe thead th {\n        text-align: right;\n    }\n</style>\n<table border=\"1\" class=\"dataframe\">\n  <thead>\n    <tr style=\"text-align: right;\">\n      <th></th>\n      <th>_id</th>\n      <th>fullname</th>\n      <th>age</th>\n      <th>parent</th>\n      <th>occupation</th>\n      <th>www</th>\n      <th>vehicle_type</th>\n      <th>vehicle_make</th>\n      <th>vehicle_model</th>\n      <th>vehicle_year</th>\n      <th>number_seats</th>\n      <th>business_field</th>\n      <th>number_insured_vehicles</th>\n      <th>timestamp</th>\n    </tr>\n  </thead>\n  <tbody>\n    <tr>\n      <th>0</th>\n      <td>65a713cc1dfebcf6ca173f0d</td>\n      <td>Aya Hamza</td>\n      <td>20.0</td>\n      <td>False</td>\n      <td>student</td>\n      <td>True</td>\n      <td>car</td>\n      <td>audi</td>\n      <td>rs q4</td>\n      <td>2020.0</td>\n      <td>5</td>\n      <td>NaN</td>\n      <td>NaN</td>\n      <td>2024-01-16T23:39:56.689Z</td>\n    </tr>\n    <tr>\n      <th>1</th>\n      <td>65a714291dfebcf6ca173f0e</td>\n      <td>Hicham Hamza</td>\n      <td>56.0</td>\n      <td>True</td>\n      <td>teacher</td>\n      <td>True</td>\n      <td>car</td>\n      <td>dacia</td>\n      <td>logan</td>\n      <td>2021.0</td>\n      <td>5</td>\n      <td>NaN</td>\n      <td>NaN</td>\n      <td>2024-01-16T23:41:29.796Z</td>\n    </tr>\n    <tr>\n      <th>2</th>\n      <td>65a714641dfebcf6ca173f0f</td>\n      <td>Kamilia Hamza</td>\n      <td>19.0</td>\n      <td>False</td>\n      <td>student</td>\n      <td>True</td>\n      <td>motorcycle</td>\n      <td>cappuccino</td>\n      <td>50cc</td>\n      <td>2019.0</td>\n      <td>2</td>\n      <td>NaN</td>\n      <td>NaN</td>\n      <td>2024-01-16T23:42:28.869Z</td>\n    </tr>\n    <tr>\n      <th>3</th>\n      <td>65a71f2e1dfebcf6ca173f12</td>\n      <td>Mokhtar Hamza</td>\n      <td>60.0</td>\n      <td>NaN</td>\n      <td>taxi owner</td>\n      <td>NaN</td>\n      <td>car</td>\n      <td>dacia</td>\n      <td>logan</td>\n      <td>NaN</td>\n      <td>3</td>\n      <td>Transport publique de voyageurs</td>\n      <td>1.0</td>\n      <td>2024-01-17T00:28:30.752Z</td>\n    </tr>\n    <tr>\n      <th>4</th>\n      <td>65a723fd1dfebcf6ca173f15</td>\n      <td>Laila Sabri</td>\n      <td>49.0</td>\n      <td>True</td>\n      <td>employe</td>\n      <td>True</td>\n      <td>car</td>\n      <td>fiat</td>\n      <td>500</td>\n      <td>2021.0</td>\n      <td>5</td>\n      <td>NaN</td>\n      <td>NaN</td>\n      <td>2024-01-17T00:49:01.008Z</td>\n    </tr>\n    <tr>\n      <th>...</th>\n      <td>...</td>\n      <td>...</td>\n      <td>...</td>\n      <td>...</td>\n      <td>...</td>\n      <td>...</td>\n      <td>...</td>\n      <td>...</td>\n      <td>...</td>\n      <td>...</td>\n      <td>...</td>\n      <td>...</td>\n      <td>...</td>\n      <td>...</td>\n    </tr>\n    <tr>\n      <th>88</th>\n      <td>65aa961b5cb4f5930d2b2580</td>\n      <td>kamilia cluster</td>\n      <td>20.0</td>\n      <td>False</td>\n      <td>student</td>\n      <td>False</td>\n      <td>motorcycle</td>\n      <td>cappuccino</td>\n      <td>50cc</td>\n      <td>2019.0</td>\n      <td>2</td>\n      <td>NaN</td>\n      <td>NaN</td>\n      <td>2024-01-19T15:32:43.906Z</td>\n    </tr>\n    <tr>\n      <th>89</th>\n      <td>65aa96245cb4f5930d2b2581</td>\n      <td>kamilia cluster</td>\n      <td>18.0</td>\n      <td>False</td>\n      <td>student</td>\n      <td>True</td>\n      <td>motorcycle</td>\n      <td>cappuccino</td>\n      <td>50cc</td>\n      <td>2019.0</td>\n      <td>2</td>\n      <td>NaN</td>\n      <td>NaN</td>\n      <td>2024-01-19T15:32:52.242Z</td>\n    </tr>\n    <tr>\n      <th>90</th>\n      <td>65aa96295cb4f5930d2b2582</td>\n      <td>kamilia cluster</td>\n      <td>17.0</td>\n      <td>False</td>\n      <td>student</td>\n      <td>True</td>\n      <td>motorcycle</td>\n      <td>cappuccino</td>\n      <td>50cc</td>\n      <td>2019.0</td>\n      <td>2</td>\n      <td>NaN</td>\n      <td>NaN</td>\n      <td>2024-01-19T15:32:57.386Z</td>\n    </tr>\n    <tr>\n      <th>91</th>\n      <td>65aa96325cb4f5930d2b2583</td>\n      <td>kamilia cluster</td>\n      <td>17.0</td>\n      <td>False</td>\n      <td>student</td>\n      <td>False</td>\n      <td>motorcycle</td>\n      <td>cappuccino</td>\n      <td>50cc</td>\n      <td>2019.0</td>\n      <td>2</td>\n      <td>NaN</td>\n      <td>NaN</td>\n      <td>2024-01-19T15:33:06.099Z</td>\n    </tr>\n    <tr>\n      <th>92</th>\n      <td>65aa96445cb4f5930d2b2584</td>\n      <td>kamilia cluster</td>\n      <td>21.0</td>\n      <td>False</td>\n      <td>student</td>\n      <td>True</td>\n      <td>motorcycle</td>\n      <td>cappuccino</td>\n      <td>50cc</td>\n      <td>2019.0</td>\n      <td>2</td>\n      <td>NaN</td>\n      <td>NaN</td>\n      <td>2024-01-19T15:33:24.643Z</td>\n    </tr>\n  </tbody>\n</table>\n<p>93 rows × 14 columns</p>\n</div>"
     },
     "execution_count": 65,
     "metadata": {},
     "output_type": "execute_result"
    }
   ],
   "source": [
    "raw_data_path = '/Users/aya/Desktop/ML/insurance-recommender/data/raw/user_data.csv'\n",
    "\n",
    "raw_data = load_raw_data(raw_data_path)\n",
    "processed_data = raw_data\n",
    "processed_data"
   ],
   "metadata": {
    "collapsed": false,
    "ExecuteTime": {
     "end_time": "2024-01-19T15:52:51.470561Z",
     "start_time": "2024-01-19T15:52:51.445536Z"
    }
   },
   "id": "2040a2533ae480e1",
   "execution_count": 65
  },
  {
   "cell_type": "code",
   "outputs": [
    {
     "name": "stdout",
     "output_type": "stream",
     "text": [
      "{'_id': '65aa92005cb4f5930d2b2568', 'age': 0.0, 'parent': 'unknown', 'occupation': 'CEO', 'www': 'unknown', 'vehicle_type': 'car', 'vehicle_make': 'unknown', 'vehicle_model': 'unknown', 'vehicle_year': 0.0, 'number_seats': 5, 'business_field': 'IT services', 'number_insured_vehicles': 12.0}\n"
     ]
    }
   ],
   "source": [
    "processed_data[\"vehicle_year\"].fillna(value=0, inplace=True)\n",
    "processed_data[\"number_insured_vehicles\"].fillna(value=0, inplace=True)\n",
    "processed_data[\"age\"].fillna(value=0, inplace=True)\n",
    "processed_data.fillna(value='unknown', inplace=True)\n",
    "\n",
    "# dropping these cols because we do not need it at this stage of code\n",
    "processed_data = processed_data.drop(['timestamp','fullname'], axis=1)\n",
    "\n",
    "print(processed_data.iloc[64].to_dict())\n"
   ],
   "metadata": {
    "collapsed": false,
    "ExecuteTime": {
     "end_time": "2024-01-19T15:52:58.911722Z",
     "start_time": "2024-01-19T15:52:58.896096Z"
    }
   },
   "id": "8e786a957fdba081",
   "execution_count": 66
  },
  {
   "cell_type": "code",
   "outputs": [
    {
     "data": {
      "text/plain": "                         _id  age   parent  occupation      www vehicle_type  \\\n0   65a713cc1dfebcf6ca173f0d   20    False     student     True          car   \n1   65a714291dfebcf6ca173f0e   56     True     teacher     True          car   \n2   65a714641dfebcf6ca173f0f   19    False     student     True   motorcycle   \n3   65a71c7f1dfebcf6ca173f11   25  unknown         CEO  unknown          car   \n4   65a71f2e1dfebcf6ca173f12   60  unknown  taxi owner  unknown          car   \n..                       ...  ...      ...         ...      ...          ...   \n56  65a9c22902478feb98fc38ff   35     True   architect     True          car   \n57  65a9c22d02478feb98fc3900   35     True      doctor     True          car   \n58  65a9c23902478feb98fc3901   35     True      doctor     True          car   \n59  65a9c24302478feb98fc3902   35     True      doctor    False          car   \n60  65a9c24b02478feb98fc3903   35    False      doctor     True          car   \n\n    number_seats                   business_field  number_insured_vehicles  \\\n0              5                          unknown                      0.0   \n1              5                          unknown                      0.0   \n2              2                          unknown                      0.0   \n3              5                      IT services                     20.0   \n4              3  Transport publique de voyageurs                      1.0   \n..           ...                              ...                      ...   \n56             5                          unknown                      0.0   \n57             5                          unknown                      0.0   \n58             5                          unknown                      0.0   \n59             5                          unknown                      0.0   \n60             5                          unknown                      0.0   \n\n   vehicle_range vehicle_category vehicle_state  \n0       Midrange           Diesel        Recent  \n1       Economic           Diesel        Recent  \n2       Economic           Diesel       Vetuste  \n3        unknown          unknown           NaN  \n4       Economic           Diesel           NaN  \n..           ...              ...           ...  \n56      Economic           Hybrid        Recent  \n57      Economic           Hybrid        Recent  \n58      Economic           Hybrid        Recent  \n59      Economic           Hybrid        Recent  \n60      Economic           Hybrid        Recent  \n\n[61 rows x 12 columns]",
      "text/html": "<div>\n<style scoped>\n    .dataframe tbody tr th:only-of-type {\n        vertical-align: middle;\n    }\n\n    .dataframe tbody tr th {\n        vertical-align: top;\n    }\n\n    .dataframe thead th {\n        text-align: right;\n    }\n</style>\n<table border=\"1\" class=\"dataframe\">\n  <thead>\n    <tr style=\"text-align: right;\">\n      <th></th>\n      <th>_id</th>\n      <th>age</th>\n      <th>parent</th>\n      <th>occupation</th>\n      <th>www</th>\n      <th>vehicle_type</th>\n      <th>number_seats</th>\n      <th>business_field</th>\n      <th>number_insured_vehicles</th>\n      <th>vehicle_range</th>\n      <th>vehicle_category</th>\n      <th>vehicle_state</th>\n    </tr>\n  </thead>\n  <tbody>\n    <tr>\n      <th>0</th>\n      <td>65a713cc1dfebcf6ca173f0d</td>\n      <td>20</td>\n      <td>False</td>\n      <td>student</td>\n      <td>True</td>\n      <td>car</td>\n      <td>5</td>\n      <td>unknown</td>\n      <td>0.0</td>\n      <td>Midrange</td>\n      <td>Diesel</td>\n      <td>Recent</td>\n    </tr>\n    <tr>\n      <th>1</th>\n      <td>65a714291dfebcf6ca173f0e</td>\n      <td>56</td>\n      <td>True</td>\n      <td>teacher</td>\n      <td>True</td>\n      <td>car</td>\n      <td>5</td>\n      <td>unknown</td>\n      <td>0.0</td>\n      <td>Economic</td>\n      <td>Diesel</td>\n      <td>Recent</td>\n    </tr>\n    <tr>\n      <th>2</th>\n      <td>65a714641dfebcf6ca173f0f</td>\n      <td>19</td>\n      <td>False</td>\n      <td>student</td>\n      <td>True</td>\n      <td>motorcycle</td>\n      <td>2</td>\n      <td>unknown</td>\n      <td>0.0</td>\n      <td>Economic</td>\n      <td>Diesel</td>\n      <td>Vetuste</td>\n    </tr>\n    <tr>\n      <th>3</th>\n      <td>65a71c7f1dfebcf6ca173f11</td>\n      <td>25</td>\n      <td>unknown</td>\n      <td>CEO</td>\n      <td>unknown</td>\n      <td>car</td>\n      <td>5</td>\n      <td>IT services</td>\n      <td>20.0</td>\n      <td>unknown</td>\n      <td>unknown</td>\n      <td>NaN</td>\n    </tr>\n    <tr>\n      <th>4</th>\n      <td>65a71f2e1dfebcf6ca173f12</td>\n      <td>60</td>\n      <td>unknown</td>\n      <td>taxi owner</td>\n      <td>unknown</td>\n      <td>car</td>\n      <td>3</td>\n      <td>Transport publique de voyageurs</td>\n      <td>1.0</td>\n      <td>Economic</td>\n      <td>Diesel</td>\n      <td>NaN</td>\n    </tr>\n    <tr>\n      <th>...</th>\n      <td>...</td>\n      <td>...</td>\n      <td>...</td>\n      <td>...</td>\n      <td>...</td>\n      <td>...</td>\n      <td>...</td>\n      <td>...</td>\n      <td>...</td>\n      <td>...</td>\n      <td>...</td>\n      <td>...</td>\n    </tr>\n    <tr>\n      <th>56</th>\n      <td>65a9c22902478feb98fc38ff</td>\n      <td>35</td>\n      <td>True</td>\n      <td>architect</td>\n      <td>True</td>\n      <td>car</td>\n      <td>5</td>\n      <td>unknown</td>\n      <td>0.0</td>\n      <td>Economic</td>\n      <td>Hybrid</td>\n      <td>Recent</td>\n    </tr>\n    <tr>\n      <th>57</th>\n      <td>65a9c22d02478feb98fc3900</td>\n      <td>35</td>\n      <td>True</td>\n      <td>doctor</td>\n      <td>True</td>\n      <td>car</td>\n      <td>5</td>\n      <td>unknown</td>\n      <td>0.0</td>\n      <td>Economic</td>\n      <td>Hybrid</td>\n      <td>Recent</td>\n    </tr>\n    <tr>\n      <th>58</th>\n      <td>65a9c23902478feb98fc3901</td>\n      <td>35</td>\n      <td>True</td>\n      <td>doctor</td>\n      <td>True</td>\n      <td>car</td>\n      <td>5</td>\n      <td>unknown</td>\n      <td>0.0</td>\n      <td>Economic</td>\n      <td>Hybrid</td>\n      <td>Recent</td>\n    </tr>\n    <tr>\n      <th>59</th>\n      <td>65a9c24302478feb98fc3902</td>\n      <td>35</td>\n      <td>True</td>\n      <td>doctor</td>\n      <td>False</td>\n      <td>car</td>\n      <td>5</td>\n      <td>unknown</td>\n      <td>0.0</td>\n      <td>Economic</td>\n      <td>Hybrid</td>\n      <td>Recent</td>\n    </tr>\n    <tr>\n      <th>60</th>\n      <td>65a9c24b02478feb98fc3903</td>\n      <td>35</td>\n      <td>False</td>\n      <td>doctor</td>\n      <td>True</td>\n      <td>car</td>\n      <td>5</td>\n      <td>unknown</td>\n      <td>0.0</td>\n      <td>Economic</td>\n      <td>Hybrid</td>\n      <td>Recent</td>\n    </tr>\n  </tbody>\n</table>\n<p>61 rows × 12 columns</p>\n</div>"
     },
     "execution_count": 45,
     "metadata": {},
     "output_type": "execute_result"
    }
   ],
   "source": [
    "# range\n",
    "economic_cars = ['dacia', 'renault', 'fiat', 'peugeot', 'ford', 'honda', 'hyundai', 'kia', 'nissan', 'subaru', 'toyota', 'volkswagen','cappuccino']\n",
    "midrange_cars = ['audi', 'bmw', 'mazda', 'mercedes', 'volvo','Nissan']\n",
    "luxury_cars = ['aston martin', 'bentley', 'ferrari', 'lamborghini', 'porsche', 'rolls-royce','tesla']\n",
    "\n",
    "# category\n",
    "hybrid_cars =['Prius', 'Insight','Fusion Hybrid', 'Volt','RX Hybrid','Camry Hybrid','Ioniq Hybrid','Niro','i3','3','chr']\n",
    "electric_cars =['s', 'X', 'Y', 'Spark EV', 'i4', 'Kona Electric', 'Soul EV', 'e-tron']\n",
    "diesel_cars =['500', 'logan', 'rs q4', 'Spark EV', 'i4', 'Kona Electric', 'Soul EV', 'e-tron','50cc','lodge']\n",
    "\n",
    "# state\n",
    "vehicle_state=['vetuste','recent']\n",
    "\n",
    "processed_data.loc[processed_data['vehicle_make'].isin(economic_cars), 'vehicle_range'] = 'Economic'\n",
    "processed_data.loc[processed_data['vehicle_make'].isin(midrange_cars), 'vehicle_range'] = 'Midrange'\n",
    "processed_data.loc[processed_data['vehicle_make'].isin(luxury_cars), 'vehicle_range'] = 'Luxury'\n",
    "processed_data.loc[processed_data['vehicle_make'].isin(['unknown']), 'vehicle_range'] = 'unknown'\n",
    "\n",
    "processed_data.loc[processed_data['vehicle_model'].isin(hybrid_cars), 'vehicle_category'] = 'Hybrid'\n",
    "processed_data.loc[processed_data['vehicle_model'].isin(electric_cars), 'vehicle_category'] = 'Electric'\n",
    "processed_data.loc[processed_data['vehicle_model'].isin(diesel_cars), 'vehicle_category'] = 'Diesel'\n",
    "processed_data.loc[processed_data['vehicle_model'].isin(['unknown']), 'vehicle_category'] = 'unknown'\n",
    "\n",
    "processed_data['vehicle_state'] = pd.cut(\n",
    "    processed_data['vehicle_year'],\n",
    "    bins=[1886, 2019, float('inf')],\n",
    "    labels=['Vetuste', 'Recent']\n",
    ")\n",
    "processed_data = processed_data.drop(['vehicle_make','vehicle_model','vehicle_year'], axis=1)\n",
    "\n",
    "processed_data"
   ],
   "metadata": {
    "collapsed": false,
    "ExecuteTime": {
     "end_time": "2024-01-19T14:15:39.154045Z",
     "start_time": "2024-01-19T14:15:39.115278Z"
    }
   },
   "id": "24e752dfa31334a8",
   "execution_count": 45
  },
  {
   "cell_type": "code",
   "outputs": [
    {
     "data": {
      "text/plain": "                         _id  age  parent  occupation  www  vehicle_type  \\\n0   65a713cc1dfebcf6ca173f0d   20       0           5    1             2   \n1   65a714291dfebcf6ca173f0e   56       1           7    1             2   \n2   65a714641dfebcf6ca173f0f   19       0           5    1             1   \n3   65a71c7f1dfebcf6ca173f11   25       2           0    2             2   \n4   65a71f2e1dfebcf6ca173f12   60       2           6    2             2   \n..                       ...  ...     ...         ...  ...           ...   \n56  65a9c22902478feb98fc38ff   35       1           1    1             2   \n57  65a9c22d02478feb98fc3900   35       1           2    1             2   \n58  65a9c23902478feb98fc3901   35       1           2    1             2   \n59  65a9c24302478feb98fc3902   35       1           2    0             2   \n60  65a9c24b02478feb98fc3903   35       0           2    1             2   \n\n    number_seats  business_field  number_insured_vehicles  vehicle_range  \\\n0              5               5                      0.0              2   \n1              5               5                      0.0              1   \n2              2               5                      0.0              1   \n3              5               0                     20.0              0   \n4              3               3                      1.0              1   \n..           ...             ...                      ...            ...   \n56             5               5                      0.0              1   \n57             5               5                      0.0              1   \n58             5               5                      0.0              1   \n59             5               5                      0.0              1   \n60             5               5                      0.0              1   \n\n    vehicle_category  vehicle_state  \n0                  1              2  \n1                  1              2  \n2                  1              1  \n3                  0              0  \n4                  1              0  \n..               ...            ...  \n56                 3              2  \n57                 3              2  \n58                 3              2  \n59                 3              2  \n60                 3              2  \n\n[61 rows x 12 columns]",
      "text/html": "<div>\n<style scoped>\n    .dataframe tbody tr th:only-of-type {\n        vertical-align: middle;\n    }\n\n    .dataframe tbody tr th {\n        vertical-align: top;\n    }\n\n    .dataframe thead th {\n        text-align: right;\n    }\n</style>\n<table border=\"1\" class=\"dataframe\">\n  <thead>\n    <tr style=\"text-align: right;\">\n      <th></th>\n      <th>_id</th>\n      <th>age</th>\n      <th>parent</th>\n      <th>occupation</th>\n      <th>www</th>\n      <th>vehicle_type</th>\n      <th>number_seats</th>\n      <th>business_field</th>\n      <th>number_insured_vehicles</th>\n      <th>vehicle_range</th>\n      <th>vehicle_category</th>\n      <th>vehicle_state</th>\n    </tr>\n  </thead>\n  <tbody>\n    <tr>\n      <th>0</th>\n      <td>65a713cc1dfebcf6ca173f0d</td>\n      <td>20</td>\n      <td>0</td>\n      <td>5</td>\n      <td>1</td>\n      <td>2</td>\n      <td>5</td>\n      <td>5</td>\n      <td>0.0</td>\n      <td>2</td>\n      <td>1</td>\n      <td>2</td>\n    </tr>\n    <tr>\n      <th>1</th>\n      <td>65a714291dfebcf6ca173f0e</td>\n      <td>56</td>\n      <td>1</td>\n      <td>7</td>\n      <td>1</td>\n      <td>2</td>\n      <td>5</td>\n      <td>5</td>\n      <td>0.0</td>\n      <td>1</td>\n      <td>1</td>\n      <td>2</td>\n    </tr>\n    <tr>\n      <th>2</th>\n      <td>65a714641dfebcf6ca173f0f</td>\n      <td>19</td>\n      <td>0</td>\n      <td>5</td>\n      <td>1</td>\n      <td>1</td>\n      <td>2</td>\n      <td>5</td>\n      <td>0.0</td>\n      <td>1</td>\n      <td>1</td>\n      <td>1</td>\n    </tr>\n    <tr>\n      <th>3</th>\n      <td>65a71c7f1dfebcf6ca173f11</td>\n      <td>25</td>\n      <td>2</td>\n      <td>0</td>\n      <td>2</td>\n      <td>2</td>\n      <td>5</td>\n      <td>0</td>\n      <td>20.0</td>\n      <td>0</td>\n      <td>0</td>\n      <td>0</td>\n    </tr>\n    <tr>\n      <th>4</th>\n      <td>65a71f2e1dfebcf6ca173f12</td>\n      <td>60</td>\n      <td>2</td>\n      <td>6</td>\n      <td>2</td>\n      <td>2</td>\n      <td>3</td>\n      <td>3</td>\n      <td>1.0</td>\n      <td>1</td>\n      <td>1</td>\n      <td>0</td>\n    </tr>\n    <tr>\n      <th>...</th>\n      <td>...</td>\n      <td>...</td>\n      <td>...</td>\n      <td>...</td>\n      <td>...</td>\n      <td>...</td>\n      <td>...</td>\n      <td>...</td>\n      <td>...</td>\n      <td>...</td>\n      <td>...</td>\n      <td>...</td>\n    </tr>\n    <tr>\n      <th>56</th>\n      <td>65a9c22902478feb98fc38ff</td>\n      <td>35</td>\n      <td>1</td>\n      <td>1</td>\n      <td>1</td>\n      <td>2</td>\n      <td>5</td>\n      <td>5</td>\n      <td>0.0</td>\n      <td>1</td>\n      <td>3</td>\n      <td>2</td>\n    </tr>\n    <tr>\n      <th>57</th>\n      <td>65a9c22d02478feb98fc3900</td>\n      <td>35</td>\n      <td>1</td>\n      <td>2</td>\n      <td>1</td>\n      <td>2</td>\n      <td>5</td>\n      <td>5</td>\n      <td>0.0</td>\n      <td>1</td>\n      <td>3</td>\n      <td>2</td>\n    </tr>\n    <tr>\n      <th>58</th>\n      <td>65a9c23902478feb98fc3901</td>\n      <td>35</td>\n      <td>1</td>\n      <td>2</td>\n      <td>1</td>\n      <td>2</td>\n      <td>5</td>\n      <td>5</td>\n      <td>0.0</td>\n      <td>1</td>\n      <td>3</td>\n      <td>2</td>\n    </tr>\n    <tr>\n      <th>59</th>\n      <td>65a9c24302478feb98fc3902</td>\n      <td>35</td>\n      <td>1</td>\n      <td>2</td>\n      <td>0</td>\n      <td>2</td>\n      <td>5</td>\n      <td>5</td>\n      <td>0.0</td>\n      <td>1</td>\n      <td>3</td>\n      <td>2</td>\n    </tr>\n    <tr>\n      <th>60</th>\n      <td>65a9c24b02478feb98fc3903</td>\n      <td>35</td>\n      <td>0</td>\n      <td>2</td>\n      <td>1</td>\n      <td>2</td>\n      <td>5</td>\n      <td>5</td>\n      <td>0.0</td>\n      <td>1</td>\n      <td>3</td>\n      <td>2</td>\n    </tr>\n  </tbody>\n</table>\n<p>61 rows × 12 columns</p>\n</div>"
     },
     "execution_count": 37,
     "metadata": {},
     "output_type": "execute_result"
    }
   ],
   "source": [
    "from sklearn import preprocessing\n",
    "label_encoder = preprocessing.LabelEncoder()\n",
    "\n",
    "processed_data['occupation']= label_encoder.fit_transform(processed_data['occupation'])\n",
    "processed_data['occupation'].unique()\n",
    "processed_data['parent']= processed_data['parent'].map({True:1, False:0, 'unknown':2})\n",
    "\n",
    "processed_data['www']= processed_data['www'].map({True:1, False:0, 'unknown':2})\n",
    "processed_data['vehicle_type']= processed_data['vehicle_type'].map({'motorcycle':1, 'car':2,'truck':3, 'bus':4, 'boat':5, 'unknown':0})\n",
    "processed_data['vehicle_range']= processed_data['vehicle_range'].map({'Economic':1, 'Midrange':2,'Luxury':3, 'unknown':0})\n",
    "processed_data['vehicle_category']= processed_data['vehicle_category'].map({'Diesel':1, 'Electric':2,'Hybrid':3, 'unknown':0})\n",
    "processed_data['vehicle_state']= processed_data['vehicle_state'].map({'Vetuste':1, 'Recent':2, np.NAN:0})\n",
    "\n",
    "processed_data['business_field']= label_encoder.fit_transform(processed_data['business_field'])\n",
    "processed_data['business_field'].unique()\n",
    "\n",
    "processed_data"
   ],
   "metadata": {
    "collapsed": false,
    "ExecuteTime": {
     "end_time": "2024-01-19T13:15:12.369822Z",
     "start_time": "2024-01-19T13:15:12.330174Z"
    }
   },
   "id": "7bf99c8beba3f61d",
   "execution_count": 37
  },
  {
   "cell_type": "code",
   "outputs": [
    {
     "name": "stdout",
     "output_type": "stream",
     "text": [
      "                         _id       age    parent  occupation       www  \\\n",
      "0   65a713cc1dfebcf6ca173f0d -1.458852 -1.171750    0.518911 -0.261460   \n",
      "1   65a714291dfebcf6ca173f0e  1.184415  0.019529    1.300481 -0.261460   \n",
      "2   65a714641dfebcf6ca173f0f -1.532277 -1.171750    0.518911 -0.261460   \n",
      "3   65a71c7f1dfebcf6ca173f11 -1.091732  1.210808   -1.435013  1.188457   \n",
      "4   65a71f2e1dfebcf6ca173f12  1.478111  1.210808    0.909696  1.188457   \n",
      "..                       ...       ...       ...         ...       ...   \n",
      "56  65a9c22902478feb98fc38ff -0.357491  0.019529   -1.044228 -0.261460   \n",
      "57  65a9c22d02478feb98fc3900 -0.357491  0.019529   -0.653444 -0.261460   \n",
      "58  65a9c23902478feb98fc3901 -0.357491  0.019529   -0.653444 -0.261460   \n",
      "59  65a9c24302478feb98fc3902 -0.357491  0.019529   -0.653444 -1.711378   \n",
      "60  65a9c24b02478feb98fc3903 -0.357491 -1.171750   -0.653444 -0.261460   \n",
      "\n",
      "    vehicle_type  number_seats  business_field  number_insured_vehicles  \\\n",
      "0      -0.323058     -0.206749        0.665205                -0.483150   \n",
      "1      -0.323058     -0.206749        0.665205                -0.483150   \n",
      "2      -1.730667     -0.780009        0.665205                -0.483150   \n",
      "3      -0.323058     -0.206749       -3.312981                 3.295334   \n",
      "4      -0.323058     -0.588922       -0.926069                -0.294226   \n",
      "..           ...           ...             ...                      ...   \n",
      "56     -0.323058     -0.206749        0.665205                -0.483150   \n",
      "57     -0.323058     -0.206749        0.665205                -0.483150   \n",
      "58     -0.323058     -0.206749        0.665205                -0.483150   \n",
      "59     -0.323058     -0.206749        0.665205                -0.483150   \n",
      "60     -0.323058     -0.206749        0.665205                -0.483150   \n",
      "\n",
      "    vehicle_range  vehicle_category  vehicle_state  \n",
      "0        1.073751         -0.077440       0.785495  \n",
      "1       -0.095871         -0.077440       0.785495  \n",
      "2       -0.095871         -0.077440      -0.279287  \n",
      "3       -1.265492         -1.258405      -1.344069  \n",
      "4       -0.095871         -0.077440      -1.344069  \n",
      "..            ...               ...            ...  \n",
      "56      -0.095871          2.284489       0.785495  \n",
      "57      -0.095871          2.284489       0.785495  \n",
      "58      -0.095871          2.284489       0.785495  \n",
      "59      -0.095871          2.284489       0.785495  \n",
      "60      -0.095871          2.284489       0.785495  \n",
      "\n",
      "[61 rows x 12 columns]\n"
     ]
    }
   ],
   "source": [
    "from sklearn.preprocessing import StandardScaler\n",
    "\n",
    "# Extract numeric data\n",
    "selected_columns = processed_data.iloc[:, 1:13]\n",
    "\n",
    "# Standardize the data\n",
    "scaler = StandardScaler()\n",
    "scaled_data = scaler.fit_transform(selected_columns)\n",
    "\n",
    "processed_data.iloc[:, 1:13] = scaled_data\n",
    "print(processed_data)"
   ],
   "metadata": {
    "collapsed": false,
    "ExecuteTime": {
     "end_time": "2024-01-19T13:15:52.189394Z",
     "start_time": "2024-01-19T13:15:52.170450Z"
    }
   },
   "id": "60cf722b05b8bad0",
   "execution_count": 41
  },
  {
   "cell_type": "code",
   "outputs": [
    {
     "data": {
      "text/plain": "                         _id      PCA1      PCA2      PCA3\n0   65a713cc1dfebcf6ca173f0d -2.003951  0.837818  0.418612\n1   65a714291dfebcf6ca173f0e -0.947833 -1.410973 -1.196869\n2   65a714641dfebcf6ca173f0f -1.814342 -0.072063  1.476559\n3   65a71c7f1dfebcf6ca173f11  4.289241  0.801391  2.966492\n4   65a71f2e1dfebcf6ca173f12  1.403473 -2.382741  0.245195\n..                       ...       ...       ...       ...\n56  65a9c22902478feb98fc38ff -1.315299  0.742847  0.181369\n57  65a9c22d02478feb98fc3900 -1.410236  0.560812  0.086851\n58  65a9c23902478feb98fc3901 -1.410236  0.560812  0.086851\n59  65a9c24302478feb98fc3902 -1.911554  0.832506 -0.074323\n60  65a9c24b02478feb98fc3903 -1.830869  0.814690  0.093465\n\n[61 rows x 4 columns]",
      "text/html": "<div>\n<style scoped>\n    .dataframe tbody tr th:only-of-type {\n        vertical-align: middle;\n    }\n\n    .dataframe tbody tr th {\n        vertical-align: top;\n    }\n\n    .dataframe thead th {\n        text-align: right;\n    }\n</style>\n<table border=\"1\" class=\"dataframe\">\n  <thead>\n    <tr style=\"text-align: right;\">\n      <th></th>\n      <th>_id</th>\n      <th>PCA1</th>\n      <th>PCA2</th>\n      <th>PCA3</th>\n    </tr>\n  </thead>\n  <tbody>\n    <tr>\n      <th>0</th>\n      <td>65a713cc1dfebcf6ca173f0d</td>\n      <td>-2.003951</td>\n      <td>0.837818</td>\n      <td>0.418612</td>\n    </tr>\n    <tr>\n      <th>1</th>\n      <td>65a714291dfebcf6ca173f0e</td>\n      <td>-0.947833</td>\n      <td>-1.410973</td>\n      <td>-1.196869</td>\n    </tr>\n    <tr>\n      <th>2</th>\n      <td>65a714641dfebcf6ca173f0f</td>\n      <td>-1.814342</td>\n      <td>-0.072063</td>\n      <td>1.476559</td>\n    </tr>\n    <tr>\n      <th>3</th>\n      <td>65a71c7f1dfebcf6ca173f11</td>\n      <td>4.289241</td>\n      <td>0.801391</td>\n      <td>2.966492</td>\n    </tr>\n    <tr>\n      <th>4</th>\n      <td>65a71f2e1dfebcf6ca173f12</td>\n      <td>1.403473</td>\n      <td>-2.382741</td>\n      <td>0.245195</td>\n    </tr>\n    <tr>\n      <th>...</th>\n      <td>...</td>\n      <td>...</td>\n      <td>...</td>\n      <td>...</td>\n    </tr>\n    <tr>\n      <th>56</th>\n      <td>65a9c22902478feb98fc38ff</td>\n      <td>-1.315299</td>\n      <td>0.742847</td>\n      <td>0.181369</td>\n    </tr>\n    <tr>\n      <th>57</th>\n      <td>65a9c22d02478feb98fc3900</td>\n      <td>-1.410236</td>\n      <td>0.560812</td>\n      <td>0.086851</td>\n    </tr>\n    <tr>\n      <th>58</th>\n      <td>65a9c23902478feb98fc3901</td>\n      <td>-1.410236</td>\n      <td>0.560812</td>\n      <td>0.086851</td>\n    </tr>\n    <tr>\n      <th>59</th>\n      <td>65a9c24302478feb98fc3902</td>\n      <td>-1.911554</td>\n      <td>0.832506</td>\n      <td>-0.074323</td>\n    </tr>\n    <tr>\n      <th>60</th>\n      <td>65a9c24b02478feb98fc3903</td>\n      <td>-1.830869</td>\n      <td>0.814690</td>\n      <td>0.093465</td>\n    </tr>\n  </tbody>\n</table>\n<p>61 rows × 4 columns</p>\n</div>"
     },
     "execution_count": 24,
     "metadata": {},
     "output_type": "execute_result"
    }
   ],
   "source": [
    "from sklearn.decomposition import PCA\n",
    "import pandas as pd\n",
    "\n",
    "numeric_columns = ['parent', 'age', 'occupation', 'www', 'vehicle_type', 'number_seats',\n",
    "    'business_field', 'number_insured_vehicles', 'vehicle_range', 'vehicle_category', 'vehicle_state']\n",
    "\n",
    "# Assuming processed_data is your DataFrame\n",
    "selected_columns = processed_data[numeric_columns]\n",
    "\n",
    "# Instantiate PCA with 3 components\n",
    "pca = PCA(n_components=3)\n",
    "\n",
    "# Fit and transform the selected columns\n",
    "pca_data = pca.fit_transform(selected_columns)\n",
    "\n",
    "# Create new DataFrame with PCA components\n",
    "pca_df = pd.DataFrame(data=pca_data, columns=['PCA1', 'PCA2', 'PCA3'])\n",
    "\n",
    "# Concatenate the original DataFrame excluding numeric_columns with the PCA DataFrame\n",
    "processed_data = pd.concat([processed_data.drop(columns=numeric_columns), pca_df], axis=1)\n",
    "\n",
    "# Display the updated DataFrame\n",
    "processed_data"
   ],
   "metadata": {
    "collapsed": false,
    "ExecuteTime": {
     "end_time": "2024-01-19T11:47:04.079274Z",
     "start_time": "2024-01-19T11:47:04.074360Z"
    }
   },
   "id": "be08090b4439ffe9",
   "execution_count": 24
  },
  {
   "cell_type": "code",
   "outputs": [],
   "source": [
    "processed_data.to_csv('/Users/aya/Desktop/ML/insurance-recommender/data/processed/processed_user_data.csv', index=False)"
   ],
   "metadata": {
    "collapsed": false,
    "ExecuteTime": {
     "end_time": "2024-01-19T11:47:13.643718Z",
     "start_time": "2024-01-19T11:47:13.630081Z"
    }
   },
   "id": "ef8627467b0b8da5",
   "execution_count": 26
  },
  {
   "cell_type": "code",
   "outputs": [],
   "source": [],
   "metadata": {
    "collapsed": false
   },
   "id": "e7b8131237633b80"
  }
 ],
 "metadata": {
  "kernelspec": {
   "display_name": "Python 3",
   "language": "python",
   "name": "python3"
  },
  "language_info": {
   "codemirror_mode": {
    "name": "ipython",
    "version": 2
   },
   "file_extension": ".py",
   "mimetype": "text/x-python",
   "name": "python",
   "nbconvert_exporter": "python",
   "pygments_lexer": "ipython2",
   "version": "2.7.6"
  }
 },
 "nbformat": 4,
 "nbformat_minor": 5
}
